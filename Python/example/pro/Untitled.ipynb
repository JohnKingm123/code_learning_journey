{
 "cells": [
  {
   "cell_type": "code",
   "execution_count": null,
   "id": "31ce4620",
   "metadata": {},
   "outputs": [],
   "source": [
    "import random\n",
    "#加密12345\n",
    "a=12345\n",
    "KEY=23232\n",
    "SCD_a=a^KEY\n",
    "b=SCD_a^KEY\n",
    "print(a,SCD_a,b)"
   ]
  },
  {
   "cell_type": "code",
   "execution_count": 37,
   "id": "6a0ee970",
   "metadata": {},
   "outputs": [
    {
     "name": "stdout",
     "output_type": "stream",
     "text": [
      "吴华华 吴刚媛 周媛刚\n"
     ]
    }
   ],
   "source": [
    "#生成假名字。有两个序列，一个是 姓氏序列（如：赵钱孙李周吴郑王），一个是名序列（如：玉媛近平德华建刚山一），请在第一表中随机取1个姓氏，在第2个表中随机取1~2个字，然后将取出的字组成一个名字，生成假名字。将生成的3个假名字，放入一个列表中。\n",
    "Last_n=['赵','钱','孙','李','周','吴','郑','王']\n",
    "First_n=['玉','媛','近','平','德','华','建','刚','山','一']\n",
    "if random.randint(0,1):\n",
    "    k1=random.choice(Last_n)+ random.choice(First_n)\n",
    "else :\n",
    "    k1=random.choice(Last_n)+ random.choice(First_n)+random.choice(First_n)\n",
    "\n",
    "if random.randint(0,1):\n",
    "    k2=random.choice(Last_n)+ random.choice(First_n)\n",
    "else :\n",
    "    k2=random.choice(Last_n)+ random.choice(First_n)+random.choice(First_n)\n",
    "\n",
    "if random.randint(0,1):\n",
    "    k3=random.choice(Last_n)+ random.choice(First_n)\n",
    "else :\n",
    "    k3=random.choice(Last_n)+ random.choice(First_n)+random.choice(First_n)\n",
    "print(k1,k2,k3)"
   ]
  },
  {
   "cell_type": "code",
   "execution_count": 39,
   "id": "e18a1812",
   "metadata": {},
   "outputs": [],
   "source": [
    "#.随机生成0~100 之间3个浮点数作为考试成绩。将（2）生成的假名字与这些生成的浮点数生成一个字典，字典k，v为：名字，成绩。\n",
    "v1=random.random()\n",
    "v2=random.random()\n",
    "v3=random.random()\n"
   ]
  },
  {
   "cell_type": "code",
   "execution_count": null,
   "id": "92a0f6b4",
   "metadata": {},
   "outputs": [],
   "source": []
  },
  {
   "cell_type": "code",
   "execution_count": null,
   "id": "7bdb19fb",
   "metadata": {},
   "outputs": [],
   "source": []
  },
  {
   "cell_type": "code",
   "execution_count": null,
   "id": "03d1b899",
   "metadata": {},
   "outputs": [],
   "source": []
  },
  {
   "cell_type": "code",
   "execution_count": null,
   "id": "f458a465",
   "metadata": {},
   "outputs": [],
   "source": []
  },
  {
   "cell_type": "code",
   "execution_count": null,
   "id": "9f3ad33c",
   "metadata": {},
   "outputs": [],
   "source": []
  },
  {
   "cell_type": "code",
   "execution_count": null,
   "id": "b1f3cc1c",
   "metadata": {},
   "outputs": [],
   "source": []
  },
  {
   "cell_type": "code",
   "execution_count": null,
   "id": "6b6ac731",
   "metadata": {},
   "outputs": [],
   "source": []
  },
  {
   "cell_type": "code",
   "execution_count": null,
   "id": "3564f03b",
   "metadata": {},
   "outputs": [],
   "source": []
  }
 ],
 "metadata": {
  "kernelspec": {
   "display_name": "Python 3 (ipykernel)",
   "language": "python",
   "name": "python3"
  },
  "language_info": {
   "codemirror_mode": {
    "name": "ipython",
    "version": 3
   },
   "file_extension": ".py",
   "mimetype": "text/x-python",
   "name": "python",
   "nbconvert_exporter": "python",
   "pygments_lexer": "ipython3",
   "version": "3.9.7"
  }
 },
 "nbformat": 4,
 "nbformat_minor": 5
}
