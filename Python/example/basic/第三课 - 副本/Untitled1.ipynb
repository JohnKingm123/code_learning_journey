{
 "cells": [
  {
   "cell_type": "code",
   "execution_count": 26,
   "id": "73e1b13b",
   "metadata": {},
   "outputs": [
    {
     "name": "stdout",
     "output_type": "stream",
     "text": [
      "4\n",
      "3\n",
      "a+b=7,a-b=1,a*b=12,a/b=1.3333,pow(a,b)=64,a mod b=1\n"
     ]
    }
   ],
   "source": [
    "a=eval(input())\n",
    "b=eval(input())\n",
    "c1=a+b\n",
    "c2=a-b\n",
    "c3=a*b\n",
    "c4=float(a)/float(b)\n",
    "c5=a**b\n",
    "c6=a%b\n",
    "print(\"a+b=%d,a-b=%d,a*b=%d,a/b=%.4f,pow(a,b)=%d,a mod b=%d\"%(c1,c2,c3,c4,c5,c6))\n"
   ]
  },
  {
   "cell_type": "code",
   "execution_count": 8,
   "id": "e4bae2ed",
   "metadata": {},
   "outputs": [
    {
     "name": "stdout",
     "output_type": "stream",
     "text": [
      "2\n",
      "12.56636\n",
      "12.56636\n"
     ]
    }
   ],
   "source": [
    "pi=3.14159\n",
    "r=input()\n",
    "C=2*float(r)*pi\n",
    "S=float(r)*float(r)*pi\n",
    "print(format(C,'.5f')+'\\n'+format(S,'.5f'))"
   ]
  },
  {
   "cell_type": "code",
   "execution_count": null,
   "id": "c316d962",
   "metadata": {},
   "outputs": [],
   "source": []
  }
 ],
 "metadata": {
  "kernelspec": {
   "display_name": "Python 3 (ipykernel)",
   "language": "python",
   "name": "python3"
  },
  "language_info": {
   "codemirror_mode": {
    "name": "ipython",
    "version": 3
   },
   "file_extension": ".py",
   "mimetype": "text/x-python",
   "name": "python",
   "nbconvert_exporter": "python",
   "pygments_lexer": "ipython3",
   "version": "3.9.7"
  }
 },
 "nbformat": 4,
 "nbformat_minor": 5
}
