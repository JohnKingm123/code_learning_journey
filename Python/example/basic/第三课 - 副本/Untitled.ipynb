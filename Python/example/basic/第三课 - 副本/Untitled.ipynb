{
 "cells": [
  {
   "cell_type": "code",
   "execution_count": 9,
   "id": "b6a09760",
   "metadata": {
    "scrolled": true
   },
   "outputs": [
    {
     "data": {
      "text/plain": [
       "10"
      ]
     },
     "execution_count": 9,
     "metadata": {},
     "output_type": "execute_result"
    }
   ],
   "source": [
    " a = \"Helloworld\"\n",
    "len(a)"
   ]
  },
  {
   "cell_type": "code",
   "execution_count": 12,
   "id": "4a17c5d4",
   "metadata": {},
   "outputs": [
    {
     "name": "stdout",
     "output_type": "stream",
     "text": [
      "shnu\n",
      "******************SHNU******************\n"
     ]
    }
   ],
   "source": [
    "a =input()\n",
    "A=a.upper()\n",
    "print(A.center(40,\"*\"))"
   ]
  },
  {
   "cell_type": "code",
   "execution_count": 14,
   "id": "ffebba7e",
   "metadata": {},
   "outputs": [
    {
     "name": "stdout",
     "output_type": "stream",
     "text": [
      "asdn\n",
      "please go[asdn]\n"
     ]
    }
   ],
   "source": [
    "a = input()\n",
    "print(\"please go[\"+a+\"]\")"
   ]
  },
  {
   "cell_type": "code",
   "execution_count": 17,
   "id": "42a41168",
   "metadata": {},
   "outputs": [
    {
     "name": "stdout",
     "output_type": "stream",
     "text": [
      "   wi as aslkdj    \n",
      "wi ?s ?slkdj\n"
     ]
    }
   ],
   "source": [
    "a = input()\n",
    "nospace = a.strip(' ') \n",
    "print(nospace.replace(\"a\",\"?\"))"
   ]
  },
  {
   "cell_type": "code",
   "execution_count": 18,
   "id": "25548d98",
   "metadata": {},
   "outputs": [
    {
     "name": "stdout",
     "output_type": "stream",
     "text": [
      "sjdlkasjd\n",
      "['sjdlkasjd']\n"
     ]
    }
   ],
   "source": [
    "a = input()\n",
    "print(a.split(\" \"))"
   ]
  },
  {
   "cell_type": "code",
   "execution_count": 22,
   "id": "2d1493ae",
   "metadata": {},
   "outputs": [
    {
     "name": "stdout",
     "output_type": "stream",
     "text": [
      "abcdefghijk\n",
      "abcdefg\n"
     ]
    }
   ],
   "source": [
    "a = input()\n",
    "print(a[0:len(a)-4])"
   ]
  },
  {
   "cell_type": "code",
   "execution_count": null,
   "id": "c6f6e316",
   "metadata": {},
   "outputs": [],
   "source": []
  }
 ],
 "metadata": {
  "kernelspec": {
   "display_name": "Python 3 (ipykernel)",
   "language": "python",
   "name": "python3"
  },
  "language_info": {
   "codemirror_mode": {
    "name": "ipython",
    "version": 3
   },
   "file_extension": ".py",
   "mimetype": "text/x-python",
   "name": "python",
   "nbconvert_exporter": "python",
   "pygments_lexer": "ipython3",
   "version": "3.9.7"
  }
 },
 "nbformat": 4,
 "nbformat_minor": 5
}
