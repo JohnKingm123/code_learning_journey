{
 "cells": [
  {
   "cell_type": "code",
   "execution_count": 5,
   "id": "df9ae968",
   "metadata": {},
   "outputs": [],
   "source": [
    "import cv2\n",
    "import numpy as np\n",
    "import pandas as pd\n",
    "from tensorflow.keras.models import Sequential\n",
    "from tensorflow.keras.layers import Conv2D, MaxPooling2D, Flatten, Dense\n",
    "from tensorflow.keras.preprocessing.image import ImageDataGenerator\n"
   ]
  },
  {
   "cell_type": "code",
   "execution_count": null,
   "id": "c6966682",
   "metadata": {},
   "outputs": [],
   "source": [
    "# 设置训练和验证数据集的路径并定义图像尺寸和批次大小\n",
    "train_dir = 'C:/Users/unstoppablecyq/Desktop/BaiduSyncdisk/2023-02-20-/人工智能实\n",
    "践/20230418/dogs-vs-cats/train'\n",
    "validation_dir = 'C:/Users/unstoppablecyq/Desktop/BaiduSyncdisk/2023-02-20-/人工智\n",
    "能实践/20230418/dogs-vs-cats/validation'\n",
    "img_width, img_height = 150, 150\n",
    "batch_size = 20\n",
    "# 对图像进行数据增强\n",
    "train_datagen = ImageDataGenerator(\n",
    "rescale=1./255,\n",
    "shear_range=0.2,\n",
    "zoom_range=0.2,\n",
    "horizontal_flip=True)\n",
    "validation_datagen = ImageDataGenerator(rescale=1./255)"
   ]
  },
  {
   "cell_type": "code",
   "execution_count": null,
   "id": "48fa517a",
   "metadata": {},
   "outputs": [],
   "source": [
    "# 加载训练和验证数据集\n",
    "train_generator = train_datagen.flow_from_directory(\n",
    "train_dir,\n",
    "target_size=(img_width, img_height),\n",
    "batch_size=batch_size,\n",
    "class_mode='binary')\n",
    "validation_generator = validation_datagen.flow_from_directory(\n",
    "validation_dir,\n",
    "target_size=(img_width, img_height),\n",
    "batch_size=batch_size,\n",
    "class_mode='binary')\n",
    "# 构建CNN模型\n",
    "model = Sequential()\n",
    "model.add(Conv2D(32, (3, 3), activation='relu', input_shape=(img_width,\n",
    "img_height, 3)))\n",
    "model.add(MaxPooling2D((2, 2)))\n",
    "model.add(Conv2D(64, (3, 3), activation='relu'))\n",
    "model.add(MaxPooling2D((2, 2)))\n",
    "model.add(Conv2D(128, (3, 3), activation='relu'))\n",
    "model.add(MaxPooling2D((2, 2)))\n",
    "model.add(Conv2D(128, (3, 3), activation='relu'))\n",
    "model.add(MaxPooling2D((2, 2)))\n",
    "model.add(Flatten())\n",
    "model.add(Dense(512, activation='relu'))\n",
    "model.add(Dense(1, activation='sigmoid'))\n",
    "# 编译模型\n",
    "model.compile(loss='binary_crossentropy', optimizer='rmsprop', metrics=\n",
    "['accuracy'])\n"
   ]
  },
  {
   "cell_type": "code",
   "execution_count": null,
   "id": "3cf173a6",
   "metadata": {},
   "outputs": [],
   "source": [
    "# 开始训练模型\n",
    "history = model.fit(\n",
    "train_generator,\n",
    "steps_per_epoch=train_generator.samples // batch_size,\n",
    "epochs=8,\n",
    "validation_data=validation_generator,\n",
    "validation_steps=validation_generator.samples // batch_size)\n",
    "# 经过多轮测试，认为取8较为合适\n"
   ]
  },
  {
   "cell_type": "code",
   "execution_count": null,
   "id": "eb6a43b2",
   "metadata": {},
   "outputs": [],
   "source": [
    "# 画图判断过拟合\n",
    "import matplotlib.pyplot as plt\n",
    "plt.plot(history.history['accuracy'])\n",
    "plt.plot(history.history['val_accuracy'])\n",
    "plt.legend([\"Accuracy\", \"Validation Acc\"])\n",
    "plt.show()"
   ]
  },
  {
   "cell_type": "code",
   "execution_count": null,
   "id": "98cd346b",
   "metadata": {},
   "outputs": [],
   "source": [
    "model.save('finals.h5')"
   ]
  },
  {
   "cell_type": "code",
   "execution_count": null,
   "id": "9627b595",
   "metadata": {},
   "outputs": [],
   "source": [
    "model = load_model('finals.h5')\n"
   ]
  },
  {
   "cell_type": "code",
   "execution_count": null,
   "id": "2028fa51",
   "metadata": {},
   "outputs": [],
   "source": [
    "# 摄像头\n",
    "cap = cv2.VideoCapture(0)\n",
    "class_labels = ['cat', 'dog']\n",
    "while True:\n",
    "# 读取摄像头的一帧图像并将图像缩放到指定大小\n",
    "ret, frame = cap.read()\n",
    "resized_frame = cv2.resize(frame, (img_width, img_height))\n",
    "img_array = np.array(resized_frame).reshape(-1, img_width, img_height, 3)\n",
    "# 预测\n",
    "prediction = model.predict(img_array)\n",
    "class_index = int(np.round(prediction))\n",
    "predicted_label = class_labels[class_index]\n",
    "# 显示结果\n",
    "cv2.putText(frame, predicted_label, (10, 50), cv2.FONT_HERSHEY_SIMPLEX, 1,\n",
    "(0, 255, 0), 2)\n",
    "cv2.imshow('frame', frame)\n",
    "# 按'q'键退出循环\n",
    "if cv2.waitKey(1) & 0xFF == ord('q'):\n",
    "break\n",
    "#结束\n",
    "cap.release()\n",
    "cv2.destroyAllWindows()"
   ]
  }
 ],
 "metadata": {
  "kernelspec": {
   "display_name": "Python 3 (ipykernel)",
   "language": "python",
   "name": "python3"
  },
  "language_info": {
   "codemirror_mode": {
    "name": "ipython",
    "version": 3
   },
   "file_extension": ".py",
   "mimetype": "text/x-python",
   "name": "python",
   "nbconvert_exporter": "python",
   "pygments_lexer": "ipython3",
   "version": "3.9.7"
  }
 },
 "nbformat": 4,
 "nbformat_minor": 5
}
