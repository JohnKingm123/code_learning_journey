{
 "cells": [
  {
   "cell_type": "markdown",
   "metadata": {},
   "source": [
    "# Python3 数字(Number)\n",
    "## 一些基本概念\n",
    "### 用于存储数值\n",
    "Python 数字数据类型用于存储数值。数据类型是不允许改变的,这就意味着如果改变数字数据类型的值，将重新分配内存空间。\n",
    "\n",
    "以下实例在变量赋值时 Number 对象将被创建：\n",
    "\n",
    "        var1 = 1\n",
    "        var2 = 10\n",
    "您也可以使用del语句删除一些数字对象的引用。\n",
    "\n",
    "del语句的语法是：\n",
    "\n",
    "    del var1[,var2[,var3[....,varN]]]\n",
    "您可以通过使用del语句删除单个或多个对象的引用，例如：\n",
    "\n",
    "    del var\n",
    "    del var_a, var_b\n",
    "### Python 支持三种不同的数值类型：\n",
    "\n",
    "    整型(Int) - 通常被称为是整型或整数，是正或负整数，不带小数点。Python3 整型是没有限制大小的，可以当作 Long 类型使用，所以 Python3 没有 Python2 的 Long 类型。  \n",
    "    \n",
    "    浮点型(float) - 浮点型由整数部分与小数部分组成，浮点型也可以使用科学计数法表示（2.5e2 ）  \n",
    "    \n",
    "    复数( (complex)) - 复数由实数部分和虚数部分构成，可以用a + bj,或者complex(a,b)表示， 复数的实部a和虚部b都是浮点型。\n",
    "\n",
    "我们可以使用十六进制和八进制来代表整数：\n",
    "\n",
    "    >>> number = 0xA0F # 十六进制\n",
    "    >>> number\n",
    "    2575\n",
    "\n",
    "    >>> number=0o37 # 八进制\n",
    "    >>> number\n",
    "    31\n",
    "|int|\tfloat\t|complex|\n",
    "|--------------|-------------|----------------|\n",
    "|10\t|0.0\t|3.14j|\n",
    "|100|\t15.20\t|45.j|\n",
    "|-786|\t-21.9\t|9.322e-36j|\n",
    "|080|\t32.3e+18|\t.876j|\n",
    "|-0490|\t-90.|\t-.6545+0J|\n",
    "|-0x260|\t-32.54e100\t|3e+26J、\n",
    "|0x69|\t70.2E-12\t|4.53e-7j|"
   ]
  },
  {
   "cell_type": "code",
   "execution_count": 3,
   "metadata": {},
   "outputs": [
    {
     "name": "stdout",
     "output_type": "stream",
     "text": [
      "(-0.8090169943749473+0.5877852522924732j)\n"
     ]
    },
    {
     "data": {
      "text/plain": [
       "9"
      ]
     },
     "execution_count": 3,
     "metadata": {},
     "output_type": "execute_result"
    }
   ],
   "source": [
    "0b010\n",
    "print(pow(-1,0.8))\n",
    "#pow(-1,2)\n",
    "pow(3,2)"
   ]
  },
  {
   "cell_type": "code",
   "execution_count": 1,
   "metadata": {},
   "outputs": [
    {
     "data": {
      "text/html": [
       "\n",
       "        <iframe\n",
       "            width=\"900\"\n",
       "            height=\"500\"\n",
       "            src=\"https://www.runoob.com/python3/python3-built-in-functions.html\"\n",
       "            frameborder=\"0\"\n",
       "            allowfullscreen\n",
       "        ></iframe>\n",
       "        "
      ],
      "text/plain": [
       "<IPython.lib.display.IFrame at 0x1f0e8b5eac8>"
      ]
     },
     "execution_count": 1,
     "metadata": {},
     "output_type": "execute_result"
    }
   ],
   "source": [
    "from IPython.display import IFrame\n",
    "IFrame('https://www.runoob.com/python3/python3-built-in-functions.html', width=900, height=500)"
   ]
  },
  {
   "cell_type": "markdown",
   "metadata": {},
   "source": [
    "\n",
    "## Python 数字类型转换\n",
    "&emsp;&emsp;有时候，我们需要对数据内置的类型进行转换，数据类型的转换，你只需要将数据类型作为函数名即可。\n",
    "\n",
    "    int(x) 将x转换为一个整数。\n",
    "    float(x) 将x转换到一个浮点数。\n",
    "    complex(x) 将x转换到一个复数，实数部分为 x，虚数部分为 0。\n",
    "    complex(x, y) 将 x 和 y 转换到一个复数，实数部分为 x，虚数部分为 y。x 和 y 是数字表达式。\n",
    "\n",
    "以下实例将浮点数变量、字符串 a 转换为整数或者浮点数："
   ]
  },
  {
   "cell_type": "code",
   "execution_count": 5,
   "metadata": {
    "collapsed": true
   },
   "outputs": [
    {
     "name": "stdout",
     "output_type": "stream",
     "text": [
      "485\n",
      "385.0\n"
     ]
    }
   ],
   "source": [
    "a = 1.0\n",
    "x=int(a)\n",
    "a = '385'\n",
    "b=int(a)\n",
    "c=float(a)\n",
    "print(b+100)\n",
    "print(c)"
   ]
  },
  {
   "cell_type": "markdown",
   "metadata": {},
   "source": [
    "## Python 数字运算\n",
    "&emsp;&emsp;Python 解释器可以作为一个简单的计算器，您可以在解释器里输入一个表达式，它将输出表达式的值。\n",
    "\n",
    "表达式的语法很直白： +, -, * 和 /, 和其它语言（如Pascal或C）里一样。例如：\n",
    "\n",
    "    >>> 2 + 2\n",
    "    4\n",
    "    >>> 50 - 5*6\n",
    "    20\n",
    "    >>> (50 - 5*6) / 4\n",
    "    5.0\n",
    "    >>> 8 / 5  # 总是返回一个浮点数\n",
    "    1.6\n",
    "    注意：在不同的机器上浮点运算的结果可能会不一样。\n",
    "\n",
    "在整数除法中，除法 / 总是返回一个浮点数，如果只想得到整数的结果，丢弃可能的分数部分，可以使用运算符 // ：\n",
    "\n",
    "    >>> 17 / 3  # 整数除法返回浮点型\n",
    "    5.666666666666667\n",
    "    >>>\n",
    "    >>> 17 // 3  # 整数除法返回向下取整后的结果\n",
    "    5\n",
    "    >>> 17 % 3  # ％操作符返回除法的余数\n",
    "    2\n",
    "    >>> 5 * 3 + 2 \n",
    "    17\n",
    "    注意：// 得到的并不一定是整数类型的数，它与分母分子的数据类型有关系。\n",
    "\n",
    "    >>> 7//2\n",
    "    3\n",
    "    >>> 7.0//2\n",
    "    3.0\n",
    "    >>> 7//2.0\n",
    "    3.0\n",
    "    >>> \n",
    "    等号 = 用于给变量赋值。赋值之后，除了下一个提示符，解释器不会显示任何结果。\n",
    "\n",
    "    >>> width = 20\n",
    "    >>> height = 5*9\n",
    "    >>> width * height\n",
    "    900\n",
    "    Python 可以使用 ** 操作来进行幂运算：\n",
    "\n",
    "    >>> 5 ** 2  # 5 的平方\n",
    "    25\n",
    "    >>> 2 ** 7  # 2的7次方\n",
    "    128\n",
    "    变量在使用前必须先\"定义\"（即赋予变量一个值），否则会出现错误：\n",
    "\n",
    "    >>> n   # 尝试访问一个未定义的变量\n",
    "    Traceback (most recent call last):\n",
    "      File \"<stdin>\", line 1, in <module>\n",
    "    NameError: name 'n' is not defined\n",
    "    \n",
    "不同类型的数混合运算时会将整数转换为浮点数：\n",
    "\n",
    "    >>> 3 * 3.75 / 1.5\n",
    "    7.5\n",
    "    >>> 7.0 / 2\n",
    "    3.5\n",
    "    在交互模式中，最后被输出的表达式结果被赋值给变量 _ 。例如：\n",
    "\n",
    "    >>> tax = 12.5 / 100\n",
    "    >>> price = 100.50\n",
    "    >>> price * tax\n",
    "    12.5625\n",
    "    >>> price + _\n",
    "    113.0625\n",
    "    >>> round(_, 2)\n",
    "    113.06\n",
    "    此处， _ 变量应被用户视为只读变量。\n",
    "\n",
    "\n",
    "## 数学函数\n",
    "|函数\t|返回值 ( 描述 )|\n",
    "|---------------|------------|\n",
    "|abs(x)|\t返回数字的绝对值，如abs(-10) 返回 10|\n",
    "|ceil(x)\t|返回数字的上入整数，如math.ceil(4.1) 返回 5|\n",
    "|cmp(x, y)|如果 x < y 返回 -1, 如果 x == y 返回 0, 如果 x > y 返回 1。 Python 3 已废弃，使用 (x>y)-(x<y) 替换。|\n",
    "|exp(x)\t|返回e的x次幂(ex),如math.exp(1) 返回2.718281828459045|\n",
    "|fabs(x)|\t返回数字的绝对值，如math.fabs(-10) 返回10.0|\n",
    "|floor(x)|\t返回数字的下舍整数，如math.floor(4.9)返回 4|\n",
    "|log(x)\t|如math.log(math.e)返回1.0,math.log(100,10)返回2.0|\n",
    "|log10(x)|\t返回以10为基数的x的对数，如math.log10(100)返回 2.0|\n",
    "|max(x1, x2,...)\t|返回给定参数的最大值，参数可以为序列。|\n",
    "|min(x1, x2,...)|\t返回给定参数的最小值，参数可以为序列。|\n",
    "|modf(x)\t|返回x的整数部分与小数部分，两部分的数值符号与x相同，整数部分以浮点型表示。|\n",
    "|pow(x, y)|\tx**y 运算后的值。|\n",
    "| round(x [,n])\t|返回浮点数 x 的四舍五入值，如给出 n 值，则代表舍入到小数点后的位数。其实准确的说是保留值将保留到离上一位更近的一端。|\n",
    "|sqrt(x)\t|返回数字x的平方根。|\n",
    "\n",
    "## 随机数函数\n",
    "随机数可以用于数学，游戏，安全等领域中，还经常被嵌入到算法中，用以提高算法效率，并提高程序的安全性。\n",
    "\n",
    "Python包含以下常用随机数函数：\n",
    "\n",
    "|函数|\t描述|\n",
    "|----------|-------------|\n",
    "|choice(seq)|\t从序列的元素中随机挑选一个元素，比如random.choice(range(10))，从0到9中随机挑选一个整数。|\n",
    "|randrange ([start,] stop [,step])\t|从指定范围内，按指定基数递增的集合中获取一个随机数，基数默认值为 1|\n",
    "|random()|\t随机生成下一个实数，它在[0,1)范围内。|\n",
    "|seed([x])\t|改变随机数生成器的种子seed。如果你不了解其原理，你不必特别去设定seed，Python会帮你选择seed。|\n",
    "|shuffle(lst)|\t将序列的所有元素随机排序|\n",
    "|uniform(x, y)\t|随机生成下一个实数，它在[x,y]范围内。|\n",
    "\n"
   ]
  },
  {
   "cell_type": "code",
   "execution_count": 12,
   "metadata": {},
   "outputs": [
    {
     "name": "stdout",
     "output_type": "stream",
     "text": [
      "2\n",
      "0.5359603800770393\n",
      "5.244279542156843\n",
      "m\n",
      "91\n",
      "[6, 3, 7, 5, 1]\n"
     ]
    }
   ],
   "source": [
    "import random\n",
    "\n",
    "print( random.randint(1,10) )        # 产生 1 到 10 的一个整数型随机数  \n",
    "print( random.random() )             # 产生 0 到 1 之间的随机浮点数\n",
    "print( random.uniform(1.1,5.4) )     # 产生  1.1 到 5.4 之间的随机浮点数，区间可以不是整数\n",
    "print( random.choice('tomorrow') )   # 从序列中随机选取一个元素\n",
    "print( random.randrange(1,100,2) )   # 生成从1到100的间隔为2的随机整数\n",
    "\n",
    "a=[1,3,5,6,7]                # 将序列a中的元素顺序打乱\n",
    "random.shuffle(a)\n",
    "print(a)"
   ]
  }
 ],
 "metadata": {
  "hide_input": false,
  "kernelspec": {
   "display_name": "Python 3",
   "language": "python",
   "name": "python3"
  },
  "language_info": {
   "codemirror_mode": {
    "name": "ipython",
    "version": 3
   },
   "file_extension": ".py",
   "mimetype": "text/x-python",
   "name": "python",
   "nbconvert_exporter": "python",
   "pygments_lexer": "ipython3",
   "version": "3.7.3"
  },
  "toc": {
   "base_numbering": 1,
   "nav_menu": {},
   "number_sections": true,
   "sideBar": true,
   "skip_h1_title": false,
   "title_cell": "Table of Contents",
   "title_sidebar": "Contents",
   "toc_cell": false,
   "toc_position": {},
   "toc_section_display": true,
   "toc_window_display": true
  },
  "varInspector": {
   "cols": {
    "lenName": 16,
    "lenType": 16,
    "lenVar": 40
   },
   "kernels_config": {
    "python": {
     "delete_cmd_postfix": "",
     "delete_cmd_prefix": "del ",
     "library": "var_list.py",
     "varRefreshCmd": "print(var_dic_list())"
    },
    "r": {
     "delete_cmd_postfix": ") ",
     "delete_cmd_prefix": "rm(",
     "library": "var_list.r",
     "varRefreshCmd": "cat(var_dic_list()) "
    }
   },
   "types_to_exclude": [
    "module",
    "function",
    "builtin_function_or_method",
    "instance",
    "_Feature"
   ],
   "window_display": false
  }
 },
 "nbformat": 4,
 "nbformat_minor": 2
}
