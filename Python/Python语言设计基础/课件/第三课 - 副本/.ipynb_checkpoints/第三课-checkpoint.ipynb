{
 "cells": [
  {
   "cell_type": "markdown",
   "metadata": {},
   "source": [
    "  \n",
    "#  <font color = gray>print 输出（这个非常重要，我们的上课与实践都需要，必须很好地掌握）</font>"
   ]
  },
  {
   "cell_type": "code",
   "execution_count": 1,
   "metadata": {
    "collapsed": true
   },
   "outputs": [
    {
     "name": "stdout",
     "output_type": "stream",
     "text": [
      "Hello！welcome here Python world!\n"
     ]
    }
   ],
   "source": [
    "print(\"Hello！welcome here Python world!\") "
   ]
  },
  {
   "cell_type": "markdown",
   "metadata": {},
   "source": [
    "## <font color = gray>无引号打印输出</font>"
   ]
  },
  {
   "cell_type": "code",
   "execution_count": 6,
   "metadata": {
    "collapsed": true
   },
   "outputs": [
    {
     "name": "stdout",
     "output_type": "stream",
     "text": [
      "2021\n"
     ]
    }
   ],
   "source": [
    "print(2021)#为什么能打印出来？"
   ]
  },
  {
   "cell_type": "code",
   "execution_count": 7,
   "metadata": {
    "collapsed": true
   },
   "outputs": [
    {
     "ename": "NameError",
     "evalue": "name '我是上师大的学生' is not defined",
     "output_type": "error",
     "traceback": [
      "\u001b[1;31m---------------------------------------------------------------------------\u001b[0m",
      "\u001b[1;31mNameError\u001b[0m                                 Traceback (most recent call last)",
      "\u001b[1;32m<ipython-input-7-1835d39d0361>\u001b[0m in \u001b[0;36m<module>\u001b[1;34m\u001b[0m\n\u001b[1;32m----> 1\u001b[1;33m \u001b[0mprint\u001b[0m\u001b[1;33m(\u001b[0m\u001b[0m我是上师大的学生\u001b[0m\u001b[1;33m)\u001b[0m\u001b[1;33m\u001b[0m\u001b[1;33m\u001b[0m\u001b[0m\n\u001b[0m",
      "\u001b[1;31mNameError\u001b[0m: name '我是上师大的学生' is not defined"
     ]
    }
   ],
   "source": [
    "print(我是上师大的学生)#打印这一句话行吗？"
   ]
  },
  {
   "cell_type": "markdown",
   "metadata": {},
   "source": [
    "##  <font color = gray>单引号打印输出</font>"
   ]
  },
  {
   "cell_type": "code",
   "execution_count": null,
   "metadata": {},
   "outputs": [],
   "source": [
    "print('2021')# 这与以上不带引号的输出是不同的"
   ]
  },
  {
   "cell_type": "code",
   "execution_count": 8,
   "metadata": {},
   "outputs": [
    {
     "name": "stdout",
     "output_type": "stream",
     "text": [
      "我是上师大的学生\n"
     ]
    }
   ],
   "source": [
    "print('我是上师大的学生')#打印这一句话行吗？"
   ]
  },
  {
   "cell_type": "code",
   "execution_count": 9,
   "metadata": {},
   "outputs": [
    {
     "ename": "SyntaxError",
     "evalue": "invalid syntax (<ipython-input-9-72911c2488d6>, line 1)",
     "output_type": "error",
     "traceback": [
      "\u001b[1;36m  File \u001b[1;32m\"<ipython-input-9-72911c2488d6>\"\u001b[1;36m, line \u001b[1;32m1\u001b[0m\n\u001b[1;33m    print('let's go')\u001b[0m\n\u001b[1;37m               ^\u001b[0m\n\u001b[1;31mSyntaxError\u001b[0m\u001b[1;31m:\u001b[0m invalid syntax\n"
     ]
    }
   ],
   "source": [
    "print('let's go')#打印这一句话还行吗？"
   ]
  },
  {
   "cell_type": "markdown",
   "metadata": {},
   "source": [
    "## <font color = gray>双引号打印输出</font>"
   ]
  },
  {
   "cell_type": "code",
   "execution_count": 10,
   "metadata": {
    "collapsed": true
   },
   "outputs": [
    {
     "name": "stdout",
     "output_type": "stream",
     "text": [
      "let's go\n"
     ]
    }
   ],
   "source": [
    "print(\"let's go\")#打印这一句话还行吗？"
   ]
  },
  {
   "cell_type": "markdown",
   "metadata": {
    "collapsed": true
   },
   "source": [
    "\n",
    "\n",
    "print(\"   \n",
    "\n",
    "爱国主义是指个人或集体对祖国的一种积极和支持的态度，   \n",
    "\n",
    "揭示了个人对祖国的依存关系，   \n",
    "\n",
    "是人们对自己家园以及民族和文化的归属感、认同感、尊严感与荣誉感的统一。\n",
    "\")#打印这一句话还行吗？\n"
   ]
  },
  {
   "cell_type": "markdown",
   "metadata": {},
   "source": [
    "##  <font color = gray>三引号打印输出</font>"
   ]
  },
  {
   "cell_type": "code",
   "execution_count": 19,
   "metadata": {},
   "outputs": [
    {
     "name": "stdout",
     "output_type": "stream",
     "text": [
      "\n",
      "爱国主义是指个人或集体对祖国的一种积极和支持的态度，\n",
      "揭示了个人对祖国的依存关系，\n",
      "是人们对自己家园以及民族和文化的归属感、认同感、尊严感与荣誉感的统一。\n",
      "\n"
     ]
    }
   ],
   "source": [
    "print('''\n",
    "爱国主义是指个人或集体对祖国的一种积极和支持的态度，\n",
    "揭示了个人对祖国的依存关系，\n",
    "是人们对自己家园以及民族和文化的归属感、认同感、尊严感与荣誉感的统一。\n",
    "''')#打印这一句话还行吗？"
   ]
  },
  {
   "cell_type": "markdown",
   "metadata": {},
   "source": [
    "# 变量和简单数据类型"
   ]
  },
  {
   "cell_type": "markdown",
   "metadata": {},
   "source": [
    "##  变量 \n",
    "### 变量的概念\n",
    ">记得中学学过的变量概念吗？  \n",
    "y=2*x+1  \n",
    "f(x)=2*x+1  \n",
    "\n",
    ">试想一下，将print(x)看作数学函数，那么其中的x变量就是可以变化的了,那么想一下这个函数会是怎么样的呢？   \n",
    "就像下面这样\n",
    "\n",
    "x=\"Hello Python world!\"  \n",
    "\n",
    "print(x)  \n",
    "\n",
    "？？？   \n",
    "在数学里，变量与函数是一对概念，函数输入不同变量其值也会不同。    \n",
    "python也是一样，也有函数，这个print就是一个典型的python函数\n",
    "\n",
    "\n"
   ]
  },
  {
   "cell_type": "code",
   "execution_count": 5,
   "metadata": {},
   "outputs": [
    {
     "name": "stdout",
     "output_type": "stream",
     "text": [
      "Hello Python world!\n"
     ]
    }
   ],
   "source": [
    "x=\"Hello Python world!\"\n",
    "print(x)#鼠标放在print上按快捷键Shift+Tab，试试看"
   ]
  },
  {
   "cell_type": "code",
   "execution_count": 54,
   "metadata": {},
   "outputs": [],
   "source": [
    "print?"
   ]
  },
  {
   "cell_type": "code",
   "execution_count": 6,
   "metadata": {},
   "outputs": [
    {
     "name": "stdout",
     "output_type": "stream",
     "text": [
      "Hello Python world!\n"
     ]
    }
   ],
   "source": [
    "x=\"Hello Python world!\"#把字符串放到变量x里，或者说：给变量x赋值，把字符串值赋给变量x\n",
    "print(x)#message就是变量,\n"
   ]
  },
  {
   "cell_type": "code",
   "execution_count": 1,
   "metadata": {
    "collapsed": true
   },
   "outputs": [
    {
     "name": "stdout",
     "output_type": "stream",
     "text": [
      "i am a student of shnu\n"
     ]
    }
   ],
   "source": [
    "x=\"i am a student of shnu\"#这个等号叫做赋值，整个命令就可以描述为“将‘i am a student of shnu’赋值给x”\n",
    "print(x)"
   ]
  },
  {
   "cell_type": "code",
   "execution_count": 8,
   "metadata": {},
   "outputs": [
    {
     "name": "stdout",
     "output_type": "stream",
     "text": [
      "Hello Python world!\n"
     ]
    }
   ],
   "source": [
    "my_x=x#创建新的变量my_x将x赋值给这个变量\n",
    "print(my_x)"
   ]
  },
  {
   "cell_type": "code",
   "execution_count": 13,
   "metadata": {},
   "outputs": [
    {
     "name": "stdout",
     "output_type": "stream",
     "text": [
      "x的值是： i am teacher\n",
      "my_x的值是：Hello Python world!\n"
     ]
    }
   ],
   "source": [
    "x='i am teacher'#改变x中保存的值\n",
    "print('x的值是：',x)#注意这个地方的差别：逗号与加号\n",
    "print('my_x的值是：'+my_x)\n",
    "\n",
    "#?????????????思考结果会是什么？"
   ]
  },
  {
   "cell_type": "markdown",
   "metadata": {},
   "source": [
    "###  变量的命名和使用 \n",
    "以上变量只是保存了字符串，还能保存的值的类型不止字符串，可以是几乎所有的数据类型。   \n",
    "这里对变量名字的命名做一些规范，变量名可以随意，但是有些规矩如下：\n",
    "\n",
    "<img width = '550' height ='550' src =\"192206921.png\"/>\n",
    "\n",
    "<br>\n",
    "什么是关键字？   \n",
    "<img width = '550' height ='550' src =\"guanjian.png\"/>\n"
   ]
  },
  {
   "cell_type": "code",
   "execution_count": 57,
   "metadata": {},
   "outputs": [
    {
     "ename": "SyntaxError",
     "evalue": "invalid syntax (<ipython-input-57-e966acc0b700>, line 2)",
     "output_type": "error",
     "traceback": [
      "\u001b[1;36m  File \u001b[1;32m\"<ipython-input-57-e966acc0b700>\"\u001b[1;36m, line \u001b[1;32m2\u001b[0m\n\u001b[1;33m    my word='thanks'\u001b[0m\n\u001b[1;37m          ^\u001b[0m\n\u001b[1;31mSyntaxError\u001b[0m\u001b[1;31m:\u001b[0m invalid syntax\n"
     ]
    }
   ],
   "source": [
    "#注意这里多行注释方法：选中多行按下ctrl和/  \n",
    "my word='thanks'\n",
    "9mes='error'\n",
    "%edr*='no'\n",
    "else=3\n",
    "\n"
   ]
  },
  {
   "cell_type": "markdown",
   "metadata": {},
   "source": [
    "## 简单数据类型"
   ]
  },
  {
   "cell_type": "markdown",
   "metadata": {},
   "source": [
    "###  字符串<font color = gray></font>  \n",
    "[字符串](%E5%AD%97%E7%AC%A6%E4%B8%B2.ipynb)  \n"
   ]
  },
  {
   "cell_type": "markdown",
   "metadata": {},
   "source": [
    "### [数字](Number.ipynb)"
   ]
  },
  {
   "cell_type": "markdown",
   "metadata": {},
   "source": [
    "### 字符串与数字的相互关系"
   ]
  },
  {
   "cell_type": "markdown",
   "metadata": {},
   "source": [
    "#### 字符串转数字\n",
    "数字型字符串如“123456”、“23.65”----》数字（整型、浮点型）\n",
    "\n",
    "用转换函数 int(str)"
   ]
  },
  {
   "cell_type": "code",
   "execution_count": 4,
   "metadata": {},
   "outputs": [
    {
     "name": "stdout",
     "output_type": "stream",
     "text": [
      "365\n"
     ]
    }
   ],
   "source": [
    "num_str='365'\n",
    "num=int(num_str)\n",
    "print(num)"
   ]
  },
  {
   "cell_type": "code",
   "execution_count": 5,
   "metadata": {},
   "outputs": [
    {
     "ename": "ValueError",
     "evalue": "invalid literal for int() with base 10: '365.56'",
     "output_type": "error",
     "traceback": [
      "\u001b[1;31m---------------------------------------------------------------------------\u001b[0m",
      "\u001b[1;31mValueError\u001b[0m                                Traceback (most recent call last)",
      "\u001b[1;32m<ipython-input-5-34ab299c6f8c>\u001b[0m in \u001b[0;36m<module>\u001b[1;34m\u001b[0m\n\u001b[0;32m      1\u001b[0m \u001b[0mnum_str\u001b[0m\u001b[1;33m=\u001b[0m\u001b[1;34m'365.56'\u001b[0m\u001b[1;33m\u001b[0m\u001b[1;33m\u001b[0m\u001b[0m\n\u001b[1;32m----> 2\u001b[1;33m \u001b[0mnum\u001b[0m\u001b[1;33m=\u001b[0m\u001b[0mint\u001b[0m\u001b[1;33m(\u001b[0m\u001b[0mnum_str\u001b[0m\u001b[1;33m)\u001b[0m\u001b[1;33m\u001b[0m\u001b[1;33m\u001b[0m\u001b[0m\n\u001b[0m\u001b[0;32m      3\u001b[0m \u001b[0mprint\u001b[0m\u001b[1;33m(\u001b[0m\u001b[0mnum\u001b[0m\u001b[1;33m)\u001b[0m\u001b[1;33m\u001b[0m\u001b[1;33m\u001b[0m\u001b[0m\n",
      "\u001b[1;31mValueError\u001b[0m: invalid literal for int() with base 10: '365.56'"
     ]
    }
   ],
   "source": [
    "num_str='365.56'\n",
    "num=int(num_str)\n",
    "print(num)"
   ]
  },
  {
   "cell_type": "code",
   "execution_count": 7,
   "metadata": {},
   "outputs": [
    {
     "name": "stdout",
     "output_type": "stream",
     "text": [
      "234\n",
      "234\n"
     ]
    }
   ],
   "source": [
    "num_str=input()\n",
    "num=int(num_str)\n",
    "print(num)"
   ]
  },
  {
   "cell_type": "code",
   "execution_count": 2,
   "metadata": {},
   "outputs": [
    {
     "name": "stdout",
     "output_type": "stream",
     "text": [
      "365.56\n"
     ]
    }
   ],
   "source": [
    "num_str=eval('365.56')#eval去除字符串两边的引号，比如‘23.5’去引号成为23.5，然后替换成num_str=23.5\n",
    "# num=int(num_str)\n",
    "print(num_str)"
   ]
  },
  {
   "cell_type": "code",
   "execution_count": 15,
   "metadata": {},
   "outputs": [
    {
     "name": "stdout",
     "output_type": "stream",
     "text": [
      "455\n",
      "455\n"
     ]
    }
   ],
   "source": [
    "num_str=eval(input())#注意这是作业系统常用的输入方法\n",
    "\n",
    "print(num_str)"
   ]
  },
  {
   "cell_type": "markdown",
   "metadata": {},
   "source": [
    "[eval是一个神奇的函数](https://www.runoob.com/python/python-func-eval.html)"
   ]
  },
  {
   "cell_type": "markdown",
   "metadata": {},
   "source": [
    "#### 数字转字符串\n",
    "数字型字符串如“123456”、“23.65”<<----数字（整型、浮点型）\n",
    "str(s)"
   ]
  },
  {
   "cell_type": "code",
   "execution_count": 21,
   "metadata": {},
   "outputs": [
    {
     "name": "stdout",
     "output_type": "stream",
     "text": [
      "3.45是字符串\n"
     ]
    }
   ],
   "source": [
    "num=str(3.45)\n",
    "num1=num+'是字符串'\n",
    "print(num1)"
   ]
  },
  {
   "cell_type": "markdown",
   "metadata": {},
   "source": [
    "### 格式化输出"
   ]
  },
  {
   "cell_type": "markdown",
   "metadata": {},
   "source": [
    "####  <font color = gray>Python字符串格式化</font>  \n",
    "Python 支持格式化字符串的输出 。尽管这样可能会用到非常复杂的表达式，但最基本的用法是将一个值插入到一个有字符串格式符 %s 的字符串中。\n",
    "\n",
    "在 Python 中，字符串格式化使用与 C 中 printf 函数一样的语法。\n",
    "\n",
    "实例(Python 3.0+)"
   ]
  },
  {
   "cell_type": "code",
   "execution_count": 22,
   "metadata": {},
   "outputs": [
    {
     "name": "stdout",
     "output_type": "stream",
     "text": [
      "我叫小明今年 10 岁!\n"
     ]
    }
   ],
   "source": [
    "#!/usr/bin/python3\n",
    " \n",
    "print (\"我叫%s今年 %d 岁!\" %('小明', 10))"
   ]
  },
  {
   "cell_type": "markdown",
   "metadata": {},
   "source": [
    "python字符串格式化符号:\n",
    "\n",
    "    符   号\t描述y\n",
    "      %c\t 格式化字符及其ASCII码\n",
    "      %s\t 格式化字符串   <---字符串占位\n",
    "      %d\t 格式化整数     <---数字占位\n",
    "      %u\t 格式化无符号整型\n",
    "      %o\t 格式化无符号八进制数\n",
    "      %x\t 格式化无符号十六进制数\n",
    "      %X\t 格式化无符号十六进制数（大写）\n",
    "      %f\t 格式化浮点数字，可指定小数点后的精度\n",
    "      %e\t 用科学计数法格式化浮点数\n",
    "      %E\t 作用同%e，用科学计数法格式化浮点数\n",
    "      %g\t %f和%e的简写\n",
    "      %G\t %f 和 %E 的简写\n",
    "      %p\t 用十六进制数格式化变量的地址\n",
    "格式化操作符辅助指令(暂时不必了解):\n",
    "\n",
    "|符号|\t功能|\n",
    "|--------|------------|\n",
    "|.\t|定义宽度或者小数点精度|\n",
    "|-|\t用做左对齐|\n",
    "|+\t|在正数前面显示加号( + )|\n",
    "|<sp>|\t在正数前面显示空格|\n",
    "|#\t|在八进制数前面显示零('0')，在十六进制前面显示'0x'或者'0X'(取决于用的是'x'还是'X')|\n",
    "|0|\t显示的数字前面填充'0'而不是默认的空格|\n",
    "|%|\t'%%'输出一个单一的'%'|\n",
    "|(var)|\t映射变量(字典参数)|\n",
    "|m.n.|\tm 是显示的最小总宽度,n 是小数点后的位数(如果可用的话)|"
   ]
  },
  {
   "cell_type": "code",
   "execution_count": null,
   "metadata": {},
   "outputs": [],
   "source": [
    "print( '这个数是%10.2f'%4.56465)   # 留4位小数\n",
    "'''\n",
    "'%30.4f' % 45     # 要求最终返回的数字的宽度是30位，小数后4位小数。默认右对齐\n",
    "\n",
    "'%-30.4f' % 45    # 左对齐\n",
    "                \n",
    " '%+30.4f' % 45    # 显示正号\n",
    "\n",
    "'%+30.4f' % -45   #正负得负\n",
    "\n",
    "'%+030.4f' % -45   # 总宽度30位，4个小数，默认右对齐，前面补O\n",
    "'''"
   ]
  },
  {
   "cell_type": "markdown",
   "metadata": {},
   "source": [
    "#### Python format 格式化函数   \n",
    "Python2.6 开始，新增了一种格式化字符串的函数 str.format()，它增强了字符串格式化的功能。\n",
    "\n",
    "基本语法是通过 {} 和 : 来代替以前的 % 。\n",
    "\n",
    "##### format 函数可以接受不限个参数，位置可以不按顺序。\n",
    "\n",
    "        实例\n",
    "        >>>\"{} {}\".format(\"hello\", \"world\")    # 不设置指定位置，按默认顺序\n",
    "        'hello world'\n",
    "\n",
    "        >>> \"{0} {1}\".format(\"hello\", \"world\")  # 设置指定位置\n",
    "        'hello world'\n",
    "\n",
    "        >>> \"{1} {0} {1}\".format(\"hello\", \"world\")  # 设置指定位置\n",
    "        'world hello world'\n",
    "        也可以设置参数：\n",
    "\n",
    "实例"
   ]
  },
  {
   "cell_type": "code",
   "execution_count": null,
   "metadata": {},
   "outputs": [],
   "source": [
    "print(\"网站名：{name}, 地址 {url}\".format(name=\"菜鸟教程\", url=\"www.runoob.com\")) \n",
    "\"{1} {0} {1}\".format(\"hello\", \"world\") "
   ]
  },
  {
   "cell_type": "markdown",
   "metadata": {},
   "source": [
    "##### 数字格式化\n",
    "下表展示了 str.format() 格式化数字的多种方法：\n",
    "\n",
    "         print(\"{:.2f}\".format(3.1415926));\n",
    "        3.14\n",
    "|数字|\t格式|\t输出\t|描述|\n",
    "|-----|---|---|---|\n",
    "|\t<font color = red>3.1415926</font>|<font color = red>{:.2f}</font>|\t<font color = red>3.14</font>|\t<font color = red>保留小数点后两位</font>  |\n",
    "|\t<font color = red>365</font>|<font color = red>{:d}</font>|\t<font color = red>365</font>|\t<font color = red>整数</font>  |\n",
    "|3.1415926|\t{:+.2f}\t|+3.14\t|带符号保留小数点后两位|\n",
    "|-1|\t{:+.2f}\t|-1.00|\t带符号保留小数点后两位|\n",
    "|2.71828|\t{:.0f}|\t3\t|不带小数|\n",
    "|5|\t{:0>2d}\t|05\t|数字补零 (填充左边, 宽度为2)|\n",
    "|5|\t{:x<4d}\t|5xxx\t|数字补x (填充右边, 宽度为4)|\n",
    "|10|\t{:x<4d}\t|10xx\t|数字补x (填充右边, 宽度为4)|\n",
    "|1000000|\t{:,}\t|1,000,000|\t以逗号分隔的数字格式|\n",
    "|0.25|\t{:.2%}\t|25.00%\t|百分比格式|\n",
    "|1000000000|\t{:.2e}|\t1.00e+09|\t指数记法|\n",
    "|13|\t{:>10d}\t|&#8195;&#8195;&#8195;&#8195;&#8195;13\t|右对齐 (默认, 宽度为10)|\n",
    "|13|\t{:<10d}\t|13\t|左对齐 (宽度为10)|\n",
    "|13|\t{:^10d}\t |&#8195;&#8195;13|\t中间对齐 (宽度为10)|\n",
    "|11\t|'{:b}'.format(11)|1011|二进制|\n",
    "|11\t|'{:d}'.format(11)|11|十进制|\n",
    "|11\t|'{:o}'.format(11)|13|8进制|\n",
    "|11\t|'{:x}'.format(11)|b|16进制|\n",
    "|11\t|'{:#x}'.format(11)|0xb|16进制|\n",
    "|11\t|'{:#X}'.format(11)\t|0XB|16进制|\n",
    "\n",
    "\n",
    "        ^, <, > 分别是居中、左对齐、右对齐，后面带宽度， \n",
    "\n",
    "        : 号后面带填充的字符，只能是一个字符，不指定则默认是用空格填充。\n",
    "\n",
    "        + 表示在正数前显示 +，负数前显示 -；  \n",
    "\n",
    "        （空格）表示在正数前加空格\n",
    "\n",
    "        b、d、o、x 分别是二进制、十进制、八进制、十六进制。\n",
    "\n",
    "此外我们可以使用大括号 {} 来转义大括号，如下实例：\n",
    "\n",
    "        实例\n",
    "\n",
    "        print (\"{} 对应的位置是 {{0}}\".format(\"runoob\"))\n",
    "        输出结果为：\n",
    "\n",
    "        runoob 对应的位置是 {0}\n",
    "\n"
   ]
  },
  {
   "cell_type": "code",
   "execution_count": 31,
   "metadata": {},
   "outputs": [
    {
     "name": "stdout",
     "output_type": "stream",
     "text": [
      "圆的面积是：2871.333，半径是：30.232\n"
     ]
    }
   ],
   "source": [
    "#保留三位有效小数,记住今后运算题如果要求输出浮点数就用这种输出格式\n",
    "r=30.232\n",
    "rad=3.1415925*(r**2)\n",
    "num=\"圆的面积是：{:.3f}\".format(rad)\n",
    "num=\"圆的面积是：{:.3f}，半径是：{:.3f}\".format(rad,r)\n",
    "print(num)"
   ]
  },
  {
   "cell_type": "code",
   "execution_count": 42,
   "metadata": {},
   "outputs": [
    {
     "name": "stdout",
     "output_type": "stream",
     "text": [
      "input the first number:4\n",
      "input the second number:3\n",
      "a+b=7,a-b=1,a*b=12,a/b=1.333333,pow(a,b)=64,a mod b=1\n"
     ]
    }
   ],
   "source": [
    "a=int(input(\"input the first number:\"))\n",
    "b=eval(input(\"input the second number:\"))\n",
    "print(\"a+b={:d},a-b={:d},a*b={:d},a/b={:f},pow(a,b)={:d},a mod b={:d}\" .format(a+b,a-b,a*b,float(a)/b,a**b,a%b))\n"
   ]
  },
  {
   "cell_type": "code",
   "execution_count": 46,
   "metadata": {},
   "outputs": [
    {
     "name": "stdout",
     "output_type": "stream",
     "text": [
      "2\n",
      "周长：12.56636 圆面积：12.56636\n"
     ]
    }
   ],
   "source": [
    "pi = 3.14159\n",
    "r = eval(input())\n",
    "print('周长：{:.5f} 圆面积：{:.5f}'.format(2 * pi * r,pi * r * r))"
   ]
  },
  {
   "cell_type": "markdown",
   "metadata": {},
   "source": [
    "# 附加知识体验："
   ]
  },
  {
   "cell_type": "markdown",
   "metadata": {},
   "source": [
    "## 魔术命令"
   ]
  },
  {
   "cell_type": "code",
   "execution_count": 1,
   "metadata": {},
   "outputs": [
    {
     "data": {
      "text/plain": [
       "'E:\\\\data\\\\20191226test\\\\myclass\\\\2022class\\\\第三课'"
      ]
     },
     "execution_count": 1,
     "metadata": {},
     "output_type": "execute_result"
    }
   ],
   "source": [
    "%pwd"
   ]
  },
  {
   "cell_type": "code",
   "execution_count": 2,
   "metadata": {},
   "outputs": [
    {
     "name": "stdout",
     "output_type": "stream",
     "text": [
      " 驱动器 E 中的卷是 D\n",
      " 卷的序列号是 4E81-E344\n",
      "\n",
      " E:\\data\\20191226test\\myclass\\2022class\\第三课 的目录\n",
      "\n",
      "2022/03/14  08:52    <DIR>          .\n",
      "2022/03/14  08:52    <DIR>          ..\n",
      "2022/03/01  20:10    <DIR>          .ipynb_checkpoints\n",
      "2021/03/02  20:55            62,464 192206921.png\n",
      "2020/03/03  21:30       137,977,113 4_编程就是从糊涂慢慢清醒.mp4\n",
      "2021/03/24  16:13            12,607 Number.ipynb\n",
      "2020/03/06  15:44            81,766 svgFile_1583480602197_831394.svg\n",
      "2021/03/02  20:50            64,294 svgFile_1614689298173_743239.svg\n",
      "2021/03/18  12:30         1,327,892 第三次课.pptx\n",
      "2022/03/14  08:52            22,567 第三课.ipynb\n",
      "2021/03/24  16:58            37,309 字符串.ipynb\n",
      "               8 个文件    139,586,012 字节\n",
      "               3 个目录 42,885,066,752 可用字节\n"
     ]
    }
   ],
   "source": [
    "%ls"
   ]
  },
  {
   "cell_type": "code",
   "execution_count": 10,
   "metadata": {},
   "outputs": [
    {
     "data": {
      "application/json": {
       "cell": {
        "!": "OSMagics",
        "HTML": "Other",
        "SVG": "Other",
        "bash": "Other",
        "capture": "ExecutionMagics",
        "cmd": "Other",
        "debug": "ExecutionMagics",
        "file": "Other",
        "html": "DisplayMagics",
        "javascript": "DisplayMagics",
        "js": "DisplayMagics",
        "latex": "DisplayMagics",
        "markdown": "DisplayMagics",
        "perl": "Other",
        "prun": "ExecutionMagics",
        "pypy": "Other",
        "python": "Other",
        "python2": "Other",
        "python3": "Other",
        "ruby": "Other",
        "script": "ScriptMagics",
        "sh": "Other",
        "svg": "DisplayMagics",
        "sx": "OSMagics",
        "system": "OSMagics",
        "time": "ExecutionMagics",
        "timeit": "ExecutionMagics",
        "writefile": "OSMagics"
       },
       "line": {
        "alias": "OSMagics",
        "alias_magic": "BasicMagics",
        "autoawait": "AsyncMagics",
        "autocall": "AutoMagics",
        "automagic": "AutoMagics",
        "autosave": "KernelMagics",
        "bookmark": "OSMagics",
        "cd": "OSMagics",
        "clear": "KernelMagics",
        "cls": "KernelMagics",
        "colors": "BasicMagics",
        "conda": "PackagingMagics",
        "config": "ConfigMagics",
        "connect_info": "KernelMagics",
        "copy": "Other",
        "ddir": "Other",
        "debug": "ExecutionMagics",
        "dhist": "OSMagics",
        "dirs": "OSMagics",
        "doctest_mode": "BasicMagics",
        "echo": "Other",
        "ed": "Other",
        "edit": "KernelMagics",
        "env": "OSMagics",
        "gui": "BasicMagics",
        "hist": "Other",
        "history": "HistoryMagics",
        "killbgscripts": "ScriptMagics",
        "ldir": "Other",
        "less": "KernelMagics",
        "load": "CodeMagics",
        "load_ext": "ExtensionMagics",
        "loadpy": "CodeMagics",
        "logoff": "LoggingMagics",
        "logon": "LoggingMagics",
        "logstart": "LoggingMagics",
        "logstate": "LoggingMagics",
        "logstop": "LoggingMagics",
        "ls": "Other",
        "lsmagic": "BasicMagics",
        "macro": "ExecutionMagics",
        "magic": "BasicMagics",
        "matplotlib": "PylabMagics",
        "mkdir": "Other",
        "more": "KernelMagics",
        "notebook": "BasicMagics",
        "page": "BasicMagics",
        "pastebin": "CodeMagics",
        "pdb": "ExecutionMagics",
        "pdef": "NamespaceMagics",
        "pdoc": "NamespaceMagics",
        "pfile": "NamespaceMagics",
        "pinfo": "NamespaceMagics",
        "pinfo2": "NamespaceMagics",
        "pip": "PackagingMagics",
        "popd": "OSMagics",
        "pprint": "BasicMagics",
        "precision": "BasicMagics",
        "prun": "ExecutionMagics",
        "psearch": "NamespaceMagics",
        "psource": "NamespaceMagics",
        "pushd": "OSMagics",
        "pwd": "OSMagics",
        "pycat": "OSMagics",
        "pylab": "PylabMagics",
        "qtconsole": "KernelMagics",
        "quickref": "BasicMagics",
        "recall": "HistoryMagics",
        "rehashx": "OSMagics",
        "reload_ext": "ExtensionMagics",
        "ren": "Other",
        "rep": "Other",
        "rerun": "HistoryMagics",
        "reset": "NamespaceMagics",
        "reset_selective": "NamespaceMagics",
        "rmdir": "Other",
        "run": "ExecutionMagics",
        "save": "CodeMagics",
        "sc": "OSMagics",
        "set_env": "OSMagics",
        "store": "StoreMagics",
        "sx": "OSMagics",
        "system": "OSMagics",
        "tb": "ExecutionMagics",
        "time": "ExecutionMagics",
        "timeit": "ExecutionMagics",
        "unalias": "OSMagics",
        "unload_ext": "ExtensionMagics",
        "who": "NamespaceMagics",
        "who_ls": "NamespaceMagics",
        "whos": "NamespaceMagics",
        "xdel": "NamespaceMagics",
        "xmode": "BasicMagics"
       }
      },
      "text/plain": [
       "Available line magics:\n",
       "%alias  %alias_magic  %autoawait  %autocall  %automagic  %autosave  %bookmark  %cd  %clear  %cls  %colors  %conda  %config  %connect_info  %copy  %ddir  %debug  %dhist  %dirs  %doctest_mode  %echo  %ed  %edit  %env  %gui  %hist  %history  %killbgscripts  %ldir  %less  %load  %load_ext  %loadpy  %logoff  %logon  %logstart  %logstate  %logstop  %ls  %lsmagic  %macro  %magic  %matplotlib  %mkdir  %more  %notebook  %page  %pastebin  %pdb  %pdef  %pdoc  %pfile  %pinfo  %pinfo2  %pip  %popd  %pprint  %precision  %prun  %psearch  %psource  %pushd  %pwd  %pycat  %pylab  %qtconsole  %quickref  %recall  %rehashx  %reload_ext  %ren  %rep  %rerun  %reset  %reset_selective  %rmdir  %run  %save  %sc  %set_env  %store  %sx  %system  %tb  %time  %timeit  %unalias  %unload_ext  %who  %who_ls  %whos  %xdel  %xmode\n",
       "\n",
       "Available cell magics:\n",
       "%%!  %%HTML  %%SVG  %%bash  %%capture  %%cmd  %%debug  %%file  %%html  %%javascript  %%js  %%latex  %%markdown  %%perl  %%prun  %%pypy  %%python  %%python2  %%python3  %%ruby  %%script  %%sh  %%svg  %%sx  %%system  %%time  %%timeit  %%writefile\n",
       "\n",
       "Automagic is ON, % prefix IS NOT needed for line magics."
      ]
     },
     "execution_count": 10,
     "metadata": {},
     "output_type": "execute_result"
    }
   ],
   "source": [
    "%lsmagic"
   ]
  },
  {
   "cell_type": "code",
   "execution_count": 31,
   "metadata": {},
   "outputs": [
    {
     "name": "stdout",
     "output_type": "stream",
     "text": [
      "我是文件里的程序\n"
     ]
    }
   ],
   "source": [
    "%load 20200315.txt#将文件载入进来，很有用\n"
   ]
  },
  {
   "cell_type": "code",
   "execution_count": 32,
   "metadata": {},
   "outputs": [
    {
     "name": "stdout",
     "output_type": "stream",
     "text": [
      "Wall time: 0 ns\n",
      "我是文件里的程序\n"
     ]
    }
   ],
   "source": [
    "%run 20200315.txt#直接运行文件里的程序\n"
   ]
  },
  {
   "cell_type": "code",
   "execution_count": 34,
   "metadata": {},
   "outputs": [
    {
     "name": "stdout",
     "output_type": "stream",
     "text": [
      "Writing test.py\n"
     ]
    }
   ],
   "source": [
    "%%writefile test.py#将以下文字写入文件\n",
    "print(\"我是文件里的程序\")"
   ]
  },
  {
   "cell_type": "markdown",
   "metadata": {},
   "source": [
    "## time 和timeit"
   ]
  },
  {
   "cell_type": "code",
   "execution_count": 45,
   "metadata": {},
   "outputs": [
    {
     "name": "stdout",
     "output_type": "stream",
     "text": [
      "Wall time: 72 ms\n"
     ]
    }
   ],
   "source": [
    "%%time\n",
    "a=0\n",
    "for i in range(1000000):\n",
    "    a=a+i"
   ]
  },
  {
   "cell_type": "code",
   "execution_count": 46,
   "metadata": {},
   "outputs": [
    {
     "name": "stdout",
     "output_type": "stream",
     "text": [
      "Wall time: 49.3 ms\n"
     ]
    }
   ],
   "source": [
    "strings = ['foo', 'foobar', 'baz', 'qux', 'python', 'Guido Van Rossum'] * 100000\n",
    "\n",
    "method1 = [x for x in strings if x.startswith('foo')]\n",
    "\n",
    "method2 = [x for x in strings if x[:3] == 'foo']\n",
    "%time method1 = [x for x in strings if x.startswith('foo')]"
   ]
  },
  {
   "cell_type": "code",
   "execution_count": 48,
   "metadata": {},
   "outputs": [
    {
     "name": "stdout",
     "output_type": "stream",
     "text": [
      "Wall time: 33.6 ms\n"
     ]
    }
   ],
   "source": [
    "%time method2 = [x for x in strings if x[:3] == 'foo']"
   ]
  },
  {
   "cell_type": "markdown",
   "metadata": {},
   "source": [
    "\n",
    "<font size= 10>timeit</font>  \n",
    "   <br>\n",
    "   \n",
    "%timeit -n 5 -r 2 [i+1 for i in range(5000)]  \n",
    "<br>\n",
    "30.4 ms ± 52.5 µs per loop (mean ± std. dev. of 2 runs, 5 loops each)   \n",
    "<font color = red>30.4 ms ± 52.5 µs/ 运行（最短运行时间平均值 ± 标准差. dev. of 2 次统计操作, 每次操作5 次运行）</font> \n",
    "<br>\n",
    "\n",
    "执行次数为n * r，但统计数据基于repeats（r）的数量，但每次重复的“循环次数”是根据number（n）。\n",
    "\n",
    "基本上你需要一个足够大的n，所以循环次数的最小值足够“足以”代表最快的执行时间，但你还需要一个足够大的r来获得准确的关于“最快可能的执行时间”测量值的可信度的“统计数据”（特别是如果您怀疑某些缓存可能正在发生）。\n",
    "\n",
    "对于肤浅的时间安排，您应始终使用r 3，5或7（在大多数情况下足够大）并选择n为尽可能高 - 但不要太高，你可能希望它在合理的时间内完成： - ）\n"
   ]
  },
  {
   "cell_type": "code",
   "execution_count": 49,
   "metadata": {},
   "outputs": [
    {
     "name": "stdout",
     "output_type": "stream",
     "text": [
      "31.2 ms ± 590 µs per loop (mean ± std. dev. of 7 runs, 10 loops each)\n"
     ]
    }
   ],
   "source": [
    "%timeit method2 = [x for x in strings if x[:3] == 'foo']"
   ]
  },
  {
   "cell_type": "code",
   "execution_count": 50,
   "metadata": {},
   "outputs": [
    {
     "name": "stdout",
     "output_type": "stream",
     "text": [
      "30.4 ms ± 52.5 µs per loop (mean ± std. dev. of 2 runs, 5 loops each)\n"
     ]
    }
   ],
   "source": [
    "%timeit -n 5 -r 2 method2 = [x for x in strings if x[:3] == 'foo']\n"
   ]
  },
  {
   "cell_type": "code",
   "execution_count": 43,
   "metadata": {},
   "outputs": [
    {
     "name": "stdout",
     "output_type": "stream",
     "text": [
      "33.2 ms ± 277 µs per loop (mean ± std. dev. of 7 runs, 10 loops each)\n"
     ]
    }
   ],
   "source": [
    "%%timeit\n",
    "a=0\n",
    "for i in range(1000000):\n",
    "    a+=i"
   ]
  },
  {
   "cell_type": "code",
   "execution_count": 44,
   "metadata": {},
   "outputs": [
    {
     "name": "stdout",
     "output_type": "stream",
     "text": [
      "34.2 ms ± 638 µs per loop (mean ± std. dev. of 7 runs, 10 loops each)\n"
     ]
    }
   ],
   "source": [
    "%%timeit\n",
    "a=0\n",
    "for i in range(1000000):\n",
    "    a=a+i"
   ]
  }
 ],
 "metadata": {
  "kernelspec": {
   "display_name": "Python 3",
   "language": "python",
   "name": "python3"
  },
  "language_info": {
   "codemirror_mode": {
    "name": "ipython",
    "version": 3
   },
   "file_extension": ".py",
   "mimetype": "text/x-python",
   "name": "python",
   "nbconvert_exporter": "python",
   "pygments_lexer": "ipython3",
   "version": "3.7.3"
  },
  "toc": {
   "base_numbering": 1,
   "nav_menu": {},
   "number_sections": true,
   "sideBar": true,
   "skip_h1_title": false,
   "title_cell": "Table of Contents",
   "title_sidebar": "Contents",
   "toc_cell": false,
   "toc_position": {
    "height": "calc(100% - 180px)",
    "left": "10px",
    "top": "150px",
    "width": "349.083px"
   },
   "toc_section_display": true,
   "toc_window_display": true
  },
  "varInspector": {
   "cols": {
    "lenName": 16,
    "lenType": 16,
    "lenVar": 40
   },
   "kernels_config": {
    "python": {
     "delete_cmd_postfix": "",
     "delete_cmd_prefix": "del ",
     "library": "var_list.py",
     "varRefreshCmd": "print(var_dic_list())"
    },
    "r": {
     "delete_cmd_postfix": ") ",
     "delete_cmd_prefix": "rm(",
     "library": "var_list.r",
     "varRefreshCmd": "cat(var_dic_list()) "
    }
   },
   "types_to_exclude": [
    "module",
    "function",
    "builtin_function_or_method",
    "instance",
    "_Feature"
   ],
   "window_display": false
  }
 },
 "nbformat": 4,
 "nbformat_minor": 2
}
