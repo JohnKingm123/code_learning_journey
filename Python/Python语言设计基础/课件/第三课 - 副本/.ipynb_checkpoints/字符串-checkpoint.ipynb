{
 "cells": [
  {
   "cell_type": "markdown",
   "metadata": {},
   "source": [
    "\n",
    "# Python3 字符串<font color = gray></font>  \n",
    "&emsp;&emsp;字符串是 Python 中最常用的数据类型。我们可以使用引号( ' 或 \" )来创建字符串。\n",
    "创建字符串很简单，只要为变量分配一个值即可。\n",
    "\n",
    "    例如：\n",
    "        var1 = 'Hello World!'\n",
    "        var2 = \"Runoob\"\n"
   ]
  },
  {
   "cell_type": "markdown",
   "metadata": {},
   "source": [
    "## Python 访问字符串中的子串<font color = gray></font>  \n",
    "&emsp;&emsp;Python 不支持单字符类型(比如在其他语言中'a'是一个字符)，但是这单字符在 Python 中也是作为一个字符串使用（即my='a'）。\n",
    "\n",
    "Python 访问子字符串，可以使用方括号来截取字符串，如下实例："
   ]
  },
  {
   "cell_type": "code",
   "execution_count": 2,
   "metadata": {},
   "outputs": [
    {
     "name": "stdout",
     "output_type": "stream",
     "text": [
      "var1[0]:  H\n",
      "var2[1:5]:  1234\n"
     ]
    }
   ],
   "source": [
    "#!/usr/bin/python3\n",
    "var1 = 'Hello World!'\n",
    "var2 = \"01234567\"\n",
    "print (\"var1[0]: \", var1[0])#注意这里的print这个格式\n",
    "print (\"var2[1:5]: \", var2[1:5])#把鼠标光标放在函数上，按下shift_tab键就显示函数的用法"
   ]
  },
  {
   "cell_type": "markdown",
   "metadata": {},
   "source": [
    "    这里需要强调一下字符串里的顺序号从零开始   :my  student\n",
    "    m   y 空  s  t  u  d  e  n  t  \n",
    "    0   1  2  3  4  5  6  7  8  9 （字符串的正向编号）   \n",
    "    -10 -9  -8 -7 -6 -5 -4 -3 -2 -1  （以上字符串反向的编号） \n",
    "\n",
    "思考：要取其中的student该怎么取？\n"
   ]
  },
  {
   "cell_type": "code",
   "execution_count": 38,
   "metadata": {},
   "outputs": [
    {
     "ename": "SyntaxError",
     "evalue": "invalid syntax (<ipython-input-38-cbeea8c82acd>, line 3)",
     "output_type": "error",
     "traceback": [
      "\u001b[1;36m  File \u001b[1;32m\"<ipython-input-38-cbeea8c82acd>\"\u001b[1;36m, line \u001b[1;32m3\u001b[0m\n\u001b[1;33m    print (var1[?])#注意这里的print这个格式\u001b[0m\n\u001b[1;37m                ^\u001b[0m\n\u001b[1;31mSyntaxError\u001b[0m\u001b[1;31m:\u001b[0m invalid syntax\n"
     ]
    }
   ],
   "source": [
    "var1 = 'my student'\n",
    "\n",
    "print (var1[?])#注意这里的print这个格式"
   ]
  },
  {
   "cell_type": "code",
   "execution_count": 44,
   "metadata": {},
   "outputs": [
    {
     "name": "stdout",
     "output_type": "stream",
     "text": [
      "nt\n",
      "my stude\n"
     ]
    }
   ],
   "source": [
    "var1 = 'my student'\n",
    "\n",
    "print (var1[-2:])#注意这里的print这个格式\n",
    "print (var1[:-2])#注意这里的print这个格式"
   ]
  },
  {
   "cell_type": "markdown",
   "metadata": {},
   "source": [
    "## Python 字符串拼接<font color = gray></font>  \n",
    "&emsp;&emsp;你可以截取字符串的一部分并与其他字段拼接，如下实例：\n",
    "\n",
    "实例(Python 3.0+):"
   ]
  },
  {
   "cell_type": "code",
   "execution_count": 9,
   "metadata": {},
   "outputs": [
    {
     "name": "stdout",
     "output_type": "stream",
     "text": [
      "已更新字符串 :  Mr.xuHello World!\n"
     ]
    }
   ],
   "source": [
    "var1 = 'Hello World!' \n",
    "var2='Mr.xu'\n",
    "print (\"已更新字符串 : \", var2 + var1 )"
   ]
  },
  {
   "cell_type": "code",
   "execution_count": 10,
   "metadata": {},
   "outputs": [
    {
     "name": "stdout",
     "output_type": "stream",
     "text": [
      "已更新字符串 :  Mr.xuHello World!\n"
     ]
    }
   ],
   "source": [
    "var3 = var2 + var1\n",
    "print (\"已更新字符串 : \", var3)"
   ]
  },
  {
   "cell_type": "markdown",
   "metadata": {},
   "source": [
    "###     Python字符串运算符<font color = gray></font>  \n",
    "注意到以上的拼接符号是“+”号，远不止这些，请看下表：    \n",
    "\n",
    "设定实例变量  \n",
    "a值为字符串 \"Hello\"，  \n",
    "b变量值为 \"Python\"：\n",
    "\n",
    "|操作符|\t描述\t|实例|\n",
    "|----|---|---|\n",
    "|+  |\t字符串连接|\ta + b 输出结果： HelloPython|\n",
    "|*\t|重复输出字符串|\ta*2 输出结果：HelloHello|\n",
    "|[]\t|通过索引获取字符串中字符|\ta[1] 输出结果 e|\n",
    "|[ : ]\t|截取字符串中的一部分，遵循左闭右开原则，str[0,2] 是不包含第 3 个字符的。\t|a[1:4] 输出结果 ell|\n",
    "|in\t|成员运算符 - 如果字符串中包含给定的字符返回 True|\t'H' in a 输出结果 True|\n",
    "|not in\t|成员运算符 - 如果字符串中不包含给定的字符返回 True|\t'M' not in a 输出结果 True|\n",
    "|r/R\t|原始字符串 - 原始字符串：所有的字符串都是直接按照字面的意思来使用，没有转义特殊或不能打印的字符。 原始字符串除在字符串的第一个引号前加上字母 r（可以大小写）以外，与普通字符串有着几乎完全相同的语法。|\tprint( r'\\n' )print( R'\\n' )|\n",
    "|%\t|格式字符串|\t请看下一节内容。|\n",
    "        \n",
    "\n",
    "实例(Python 3.0+):"
   ]
  },
  {
   "cell_type": "code",
   "execution_count": 24,
   "metadata": {},
   "outputs": [
    {
     "name": "stdout",
     "output_type": "stream",
     "text": [
      "a + b 输出结果： HelloPython\n",
      "a * 2 输出结果： HelloHello\n",
      "a[1] 输出结果： e\n",
      "a[1:4] 输出结果： ell\n",
      "True\n",
      "False\n",
      "我爱你\n",
      "祖国\n",
      "我爱你\\n祖国\n",
      "我爱你\\n祖国\n"
     ]
    }
   ],
   "source": [
    "#!/usr/bin/python3\n",
    " \n",
    "a = \"Hello\"\n",
    "b = \"Python\"\n",
    " \n",
    "print(\"a + b 输出结果：\", a + b)\n",
    "print(\"a * 2 输出结果：\", a * 2)\n",
    "print(\"a[1] 输出结果：\", a[1])\n",
    "print(\"a[1:4] 输出结果：\", a[1:4])\n",
    " \n",
    "what_=\"H\" in a\n",
    "print(what_)\n",
    "\n",
    "what_=\"L\" in a\n",
    "print(what_)\n",
    "\n",
    "print ('我爱你\\n祖国') #\\n转义为换行\n",
    "\n",
    "print (r'我爱你\\n祖国') #不转义\n",
    "print (R'我爱你\\n祖国')"
   ]
  },
  {
   "cell_type": "markdown",
   "metadata": {},
   "source": [
    "## Python转义字符<font color = gray></font>  \n",
    "&emsp;&emsp;大家在以上的例子中知道了\\n换行转义字符，还有很多转义字符，都有类似的功能    \n",
    "在需要在字符中使用特殊字符时，python用反斜杠\\转义字符。如下表：\n",
    "\n",
    "    转义字符\t描述\n",
    "    \\(在行尾时)\t续行符\n",
    "    \\\\\t反斜杠符号\n",
    "    \\'\t单引号\n",
    "    \\\"\t双引号\n",
    "    \\a\t响铃\n",
    "    \\b\t退格(Backspace)\n",
    "    \\000\t空\n",
    "    \\n\t换行\n",
    "    \\v\t纵向制表符\n",
    "    \\t\t横向制表符\n",
    "    \\r\t回车\n",
    "    \\f\t换页\n",
    "    \\oyy\t八进制数，yy 代表的字符，例如：\\o12 代表换行，其中 o 是字母，不是数字 0。\n",
    "    \\xyy\t十六进制数，yy代表的字符，例如：\\x0a代表换行\n",
    "    \\other\t其它的字符以普通格式输出\n",
    "    "
   ]
  },
  {
   "cell_type": "code",
   "execution_count": 2,
   "metadata": {},
   "outputs": [
    {
     "name": "stdout",
     "output_type": "stream",
     "text": [
      "你好\b\n",
      "你好\\\n",
      "你好'\n",
      "他说：\"你好\"\n",
      "你好我马上就过来\n",
      "你好\\m\n",
      "你好\n",
      "\n"
     ]
    }
   ],
   "source": [
    "print('你好\\b')\n",
    "#print('你好\\')#我想打出    你好\\   这个效果，这样不行\n",
    "print('你好\\\\')\n",
    "#print('你好'')\n",
    "print('你好\\'')#单引号作为字符串一部分要打印出来的话\n",
    "\n",
    "print('他说：\\\"你好\\\"')\n",
    "\n",
    "print('你好\\\n",
    "我马上就过来')            #\\(在行尾时)    续行符\n",
    "\n",
    "print('你好\\m')\n",
    "print('你好\\n')\n"
   ]
  },
  {
   "cell_type": "markdown",
   "metadata": {},
   "source": [
    "##  向计算机程序输入字符串<font color = gray></font>  \n",
    "前面说过print函数命令是将字符串输出到屏幕显示。   \n",
    "如果需在程序运行时，通过键盘输入字符串，则可以使用input()函数。  \n",
    "它表示从标准输入读取一行文本，默认的标准设备是键盘，其语法格式如下：  \n",
    "\n",
    "    str = input(\"请输入：\");\n",
    "    print (\"你输入的内容是: \", str)"
   ]
  },
  {
   "cell_type": "code",
   "execution_count": 46,
   "metadata": {},
   "outputs": [
    {
     "name": "stdout",
     "output_type": "stream",
     "text": [
      "请输入：sdf\n",
      "你输入的内容是:  sdf\n"
     ]
    }
   ],
   "source": [
    "str = input(\"请输入：\")\n",
    "print (\"你输入的内容是: \", str)"
   ]
  },
  {
   "cell_type": "code",
   "execution_count": 47,
   "metadata": {},
   "outputs": [
    {
     "name": "stdout",
     "output_type": "stream",
     "text": [
      "ddd\n",
      "你输入的内容是:  ddd\n"
     ]
    }
   ],
   "source": [
    "str = input();\n",
    "print (\"你输入的内容是: \", str)"
   ]
  },
  {
   "cell_type": "markdown",
   "metadata": {
    "cell_style": "center"
   },
   "source": [
    "## Python 的字符串内建函数\n",
    "与[python内建函数](https://www.runoob.com/python3/python3-built-in-functions.html)不同，    \n",
    "\n",
    " [Python 的字符串常用内建函数如下：](https://www.runoob.com/python3/python3-string.html)   \n",
    "\n",
    "|序号\t|方法及描述|\n",
    "|------------|-------|\n",
    "|1|\t[capitalize()    将字符串的第一个字符转换为大写](https://www.runoob.com/python3/python3-string-capitalize.html)|\n",
    "|2\t|[center(width, fillchar)   返回一个指定的宽度 width 居中的字符串，fillchar 为填充的字符，默认为空格。](https://www.runoob.com/python3/python3-string-center.html)|\n",
    "|3|\t[count(str, beg= 0,end=len(string))   返回 str 在 string 里面出现的次数，如果 beg 或者 end 指定则返回指定范围内 str 出现的次数](https://www.runoob.com/python3/python3-string-count.html)|\n",
    "|4\t|bytes.decode(encoding=\"utf-8\", errors=\"strict\")   Python3 中没有 decode 方法，但我们可以使用 bytes 对象的 decode() 方法来解码给定的 bytes 对象，这个 bytes 对象可以由 str.encode() 来编码返回。|\n",
    "|5\t|encode(encoding='UTF-8',errors='strict')   以 encoding 指定的编码格式编码字符串，如果出错默认报一个ValueError 的异常，除非 errors 指定的是'ignore'或者'replace'|\n",
    "|6\t|endswith(suffix, beg=0, end=len(string))    检查字符串是否以 obj 结束，如果beg 或者 end 指定则检查指定的范围内是否以 obj 结束，如果是，返回 True,否则返回 False.|\n",
    "|7\t|expandtabs(tabsize=8)    把字符串 string 中的 tab 符号转为空格，tab 符号默认的空格数是 8 。|\n",
    "|8\t|[find(str, beg=0, end=len(string))      检测 str 是否包含在字符串中，如果指定范围 beg 和 end ，则检查是否包含在指定范围内，如果包含返回开始的索引值，否则返回-1](https://www.runoob.com/python3/python3-string-find.html)|\n",
    "|9\t|index(str, beg=0, end=len(string))     跟find()方法一样，只不过如果str不在字符串中会报一个异常.|\n",
    "|10|\t[isalnum()如果字符串至少有一个字符并且所有字符都是字母或数字则返 回 True,否则返回 False](https://www.runoob.com/python3/python3-string-isalnum.html)|\n",
    "|11\t|[isalpha()     如果字符串至少有一个字符并且所有字符都是字母则返回 True, 否则返回 False](https://www.runoob.com/python3/python3-string-isalpha.html)|\n",
    "|12\t|[isdigit()    如果字符串只包含数字则返回 True 否则返回 False..](https://www.runoob.com/python3/python3-string-isdigit.html)|\n",
    "|13\t|[islower()     如果字符串中包含至少一个区分大小写的字符，并且所有这些(区分大小写的)字符都是小写，则返回 True，否则返回 False](https://www.runoob.com/python3/python3-string-islower.html)|\n",
    "|14\t|[isnumeric()    如果字符串中只包含数字字符(比isdigit()更加广)，则返回 True，否则返回 False](https://www.runoob.com/python3/python3-string-isnumeric.html)|\n",
    "|15\t|[isspace()    如果字符串中只包含空白，则返回 True，否则返回 False.](https://www.runoob.com/python3/python3-string-isspace.html)|\n",
    "|16\t|[istitle()   如果字符串是标题化的(见 title())则返回 True，否则返回 False](https://www.runoob.com/python3/python3-string-istitle.html)|\n",
    "|17\t|[isupper()如果字符串中包含至少一个区分大小写的字符，并且所有这些(区分大小写的)字符都是大写，则返回 True，否则返回 False](https://www.runoob.com/python3/python3-string-isupper.html)|\n",
    "|18\t|[join(seq)            以指定字符串作为分隔符，将 seq 中所有的元素(的字符串表示)合并为一个新的字符串](https://www.runoob.com/python3/python3-string-join.html)|\n",
    "|19|\t[len(string)返回字符串长度,注意这里函数括号中是字符串，用法不同](https://www.runoob.com/python3/python3-string-len.html)|\n",
    "|20\t|[ljust(width[, fillchar])返回一个原字符串左对齐,并使用 fillchar 填充至长度 width 的新字符串，fillchar 默认为空格。](https://www.runoob.com/python3/python3-string-ljust.html)|\n",
    "|21\t|[lower()转换字符串中所有大写字符为小写.](https://www.runoob.com/python3/python3-string-lower.html)|\n",
    "|22\t|[lstrip()截掉字符串左边的空格或指定字符。](https://www.runoob.com/python3/python3-string-lstrip.html)|\n",
    "|23\t|maketrans()创建字符映射的转换表，对于接受两个参数的最简单的调用方式，第一个参数是字符串，表示需要转换的字符，第二个参数也是字符串表示转换的目标。|\n",
    "|24\t|max(str)返回字符串 str 中最大的字母。|\n",
    "|25\t|min(str)返回字符串 str 中最小的字母。|\n",
    "|26\t|[replace(old, new [, max])把 将字符串中的 str1 替换成 str2,如果 max 指定，则替换不超过 max 次。](https://www.runoob.com/python3/python3-string-replace.html)|\n",
    "|27\t|rfind(str, beg=0,end=len(string))类似于 find()函数，不过是从右边开始查找.|\n",
    "|28\t|rindex( str, beg=0, end=len(string))类似于 index()，不过是从右边开始.|\n",
    "|29\t|[rjust(width,[, fillchar])返回一个原字符串右对齐,并使用fillchar(默认空格）填充至长度 width 的新字符串](https://www.runoob.com/python3/python3-string-rjust.html)|\n",
    "|30\t|[rstrip()删除字符串字符串末尾的空格.](https://www.runoob.com/python3/python3-string-rstrip.html)|\n",
    "|31\t|[split(fen=\"*\", num=str.count(fen)) 以 fen 为分隔符截取字符串，如果 num 有指定值，则仅截取 num+1 个子字符串](https://www.runoob.com/python3/python3-string-split.html)|\n",
    "|32\t|splitlines([keepends])按照行('\\r', '\\r\\n', \\n')分隔，返回一个包含各行作为元素的列表，如果参数 keepends 为 False，不包含换行符，如果为 True，则保留换行符。|\n",
    "|33\t|startswith(substr, beg=0,end=len(string))检查字符串是否是以指定子字符串 substr 开头，是则返回 True，否则返回 False。如果beg 和 end 指定值，则在指定范围内检查。|\n",
    "|34\t|[strip([chars])在字符串上执行 lstrip()和 rstrip()](https://www.runoob.com/python3/python3-string-strip.html)|\n",
    "|35\t|swapcase()将字符串中大写转换为小写，小写转换为大写|\n",
    "|36\t|title()返回\"标题化\"的字符串,就是说所有单词都是以大写开始，其余字母均为小写(见 istitle())|\n",
    "|37\t|translate(table, deletechars=\"\")根据 str 给出的表(包含 256 个字符)转换 string 的字符, 要过滤掉的字符放到 deletechars 参数中|\n",
    "|38\t|upper()转换字符串中的小写字母为大写|\n",
    "|39\t|zfill (width)返回长度为 width 的字符串，原字符串右对齐，前面填充0|\n",
    "|40\t|isdecimal()检查字符串是否只包含十进制字符，如果是返回 true，否则返回 false。|"
   ]
  },
  {
   "cell_type": "markdown",
   "metadata": {},
   "source": [
    "### 查询\n",
    "|序号\t|方法及描述|\n",
    "|------------|-------|\n",
    "|1\t|[find(str, beg=0, end=len(string))      检测 str 是否包含在字符串中，如果指定范围 beg 和 end ，则检查是否包含在指定范围内，如果包含返回开始的索引值，否则返回-1](https://www.runoob.com/python3/python3-string-find.html)|\n",
    "|2\t|rfind(str, beg=0,end=len(string))类似于 find()函数，不过是从右边开始查找.|\n",
    "|3\t|index(str, beg=0, end=len(string))     跟find()方法一样，只不过如果str不在字符串中会报一个异常.|\n",
    "|4\t|rindex( str, beg=0, end=len(string))类似于 index()，不过是从右边开始.|\n",
    "|5\t|[max(str)返回字符串 str 中最大的字母。](https://www.runoob.com/python3/python3-string-max.html)注意：这是[python内建函数](https://www.runoob.com/python3/python3-built-in-functions.html)|\n",
    "|6\t|min(str)返回字符串 str 中最小的字母。注意：这是[python内建函数](https://www.runoob.com/python3/python3-built-in-functions.html)|\n",
    "|7|\t[len(string)返回字符串长度,注意这里函数括号中是字符串，用法不同](https://www.runoob.com/python3/python3-string-len.html)注意：这是[python内建函数](https://www.runoob.com/python3/python3-built-in-functions.html)|\n",
    "|8|\t[count(str, beg= 0,end=len(string))   返回 str 在 string 里面出现的次数，如果 beg 或者 end 指定则返回指定范围内 str 出现的次数](https://www.runoob.com/python3/python3-string-count.html)|\n"
   ]
  },
  {
   "cell_type": "code",
   "execution_count": 10,
   "metadata": {},
   "outputs": [
    {
     "name": "stdout",
     "output_type": "stream",
     "text": [
      "25\n",
      "-1\n",
      "-1\n"
     ]
    }
   ],
   "source": [
    "\n",
    "str1 = \"Chinadaily.com.cn is the largest English portal in China\"\n",
    "str2 = \"largest\";\n",
    " #在 \"Runoob example....wow!!!\"串里面查找\"exam\",并告诉我们在什么位置\n",
    "print (str1.find(str2))#str.find(str, beg=0, end=len(string))\n",
    "print (str1.find(str2, 2,20))\n",
    "print (str1.find(str2, 30,35))"
   ]
  },
  {
   "cell_type": "code",
   "execution_count": 3,
   "metadata": {},
   "outputs": [
    {
     "name": "stdout",
     "output_type": "stream",
     "text": [
      "最大字符: y\n"
     ]
    }
   ],
   "source": [
    "str = \"Chinadaily.com.cn is the largest English portal in China\"\n",
    "print (\"最大字符: \" + max(str))"
   ]
  },
  {
   "cell_type": "code",
   "execution_count": 6,
   "metadata": {},
   "outputs": [
    {
     "ename": "AttributeError",
     "evalue": "'str' object has no attribute 'len'",
     "output_type": "error",
     "traceback": [
      "\u001b[1;31m---------------------------------------------------------------------------\u001b[0m",
      "\u001b[1;31mAttributeError\u001b[0m                            Traceback (most recent call last)",
      "\u001b[1;32m<ipython-input-6-c1f937a31b82>\u001b[0m in \u001b[0;36m<module>\u001b[1;34m\u001b[0m\n\u001b[0;32m      1\u001b[0m \u001b[0mstr\u001b[0m \u001b[1;33m=\u001b[0m \u001b[1;34m\"Chinadaily.com.cn is the largest English portal in China\"\u001b[0m\u001b[1;33m\u001b[0m\u001b[1;33m\u001b[0m\u001b[0m\n\u001b[0;32m      2\u001b[0m \u001b[1;31m# len(str)             # 字符串长度\u001b[0m\u001b[1;33m\u001b[0m\u001b[1;33m\u001b[0m\u001b[1;33m\u001b[0m\u001b[0m\n\u001b[1;32m----> 3\u001b[1;33m \u001b[0mstr\u001b[0m\u001b[1;33m.\u001b[0m\u001b[0mlen\u001b[0m\u001b[1;33m(\u001b[0m\u001b[1;33m)\u001b[0m\u001b[1;33m\u001b[0m\u001b[1;33m\u001b[0m\u001b[0m\n\u001b[0m",
      "\u001b[1;31mAttributeError\u001b[0m: 'str' object has no attribute 'len'"
     ]
    }
   ],
   "source": [
    "str = \"Chinadaily.com.cn is the largest English portal in China\"\n",
    "# len(str)             # 字符串长度\n",
    "str.len()"
   ]
  },
  {
   "cell_type": "code",
   "execution_count": 12,
   "metadata": {},
   "outputs": [
    {
     "name": "stdout",
     "output_type": "stream",
     "text": [
      "str.count('run', 0, 10) :  2\n"
     ]
    }
   ],
   "source": [
    "str = \"Chinadaily.com.cn is the largest English portal in China\"\n",
    "sub='.c'\n",
    "print (\"str.count('run', 0, 10) : \", str.count(sub,0,40))#len(str) "
   ]
  },
  {
   "cell_type": "markdown",
   "metadata": {},
   "source": [
    "### 转换\n",
    "|序号\t|方法及描述|\n",
    "|------------|-------|\n",
    "|1|\t[capitalize()    将字符串的第一个字符转换为大写](https://www.runoob.com/python3/python3-string-capitalize.html)|\n",
    "|2\t|title()返回\"标题化\"的字符串,就是说所有单词都是以大写开始，其余字母均为小写(见 istitle())|\n",
    "|3\t|[lower()转换字符串中所有大写字符为小写.](https://www.runoob.com/python3/python3-string-lower.html)|\n",
    "|4\t|upper()转换字符串中的小写字母为大写|\n",
    "|5\t|swapcase()将字符串中大写转换为小写，小写转换为大写|\n"
   ]
  },
  {
   "cell_type": "code",
   "execution_count": 14,
   "metadata": {},
   "outputs": [
    {
     "name": "stdout",
     "output_type": "stream",
     "text": [
      "str.capitalize() :  Chinadaily.com.cn is the largest english portal in china\n",
      "str.title() :  Chinadaily.Com.Cn Is The Largest English Portal In China\n"
     ]
    }
   ],
   "source": [
    "str = \"Chinadaily.com.cn is the largest English portal in China\"\n",
    "\n",
    "print (\"str.capitalize() : \", str.capitalize())\n",
    "print (\"str.title() : \", str.title())"
   ]
  },
  {
   "cell_type": "markdown",
   "metadata": {},
   "source": [
    "### 编辑\n",
    "1：填充  \n",
    "2：清理   \n",
    "3：替换   \n",
    "4：合并   \n",
    "5：分割   \n",
    "\n",
    "|序号\t|方法及描述|\n",
    "|------------|-------|\n",
    "|1\t|[center(width, fillchar)   返回一个指定的宽度 width 居中的字符串，fillchar 为填充的字符，默认为空格。](https://www.runoob.com/python3/python3-string-center.html)|\n",
    "|1\t|[rjust(width,[, fillchar])返回一个原字符串右对齐,并使用fillchar(默认空格）填充至长度 width 的新字符串](https://www.runoob.com/python3/python3-string-rjust.html)|\n",
    "|1\t|[ljust(width[, fillchar])返回一个原字符串左对齐,并使用 fillchar 填充至长度 width 的新字符串，fillchar 默认为空格。](https://www.runoob.com/python3/python3-string-ljust.html)|\n",
    "|2\t|[strip([chars])在字符串上执行 lstrip()和 rstrip()](https://www.runoob.com/python3/python3-string-strip.html)|\n",
    "|2\t|[rstrip()删除字符串字符串末尾的空格.](https://www.runoob.com/python3/python3-string-rstrip.html)|\n",
    "|2\t|[lstrip()截掉字符串左边的空格或指定字符。](https://www.runoob.com/python3/python3-string-lstrip.html)|\n",
    "|3\t|[replace(old, new [, max])把 将字符串中的 str1 替换成 str2,如果 max 指定，则替换不超过 max 次。](https://www.runoob.com/python3/python3-string-replace.html)|\n",
    "|4\t|[join(seq)            以指定字符串作为分隔符，将 seq 中所有的元素(的字符串表示)合并为一个新的字符串](https://www.runoob.com/python3/python3-string-join.html)|\n",
    "|5\t|[split(fen=\"*\", num=str.count(fen)) 以 fen 为分隔符截取字符串，如果 num 有指定值，则仅截取 num+1 个子字符串](https://www.runoob.com/python3/python3-string-split.html)|\n",
    "\n",
    "\n",
    "\n",
    "\n"
   ]
  },
  {
   "cell_type": "code",
   "execution_count": 16,
   "metadata": {},
   "outputs": [
    {
     "name": "stdout",
     "output_type": "stream",
     "text": [
      "str.center(40, '*') :  *******Chinadaily.com.cn is the largest English portal in China*******\n",
      "str.center(40) :         Chinadaily.com.cn is the largest English portal in China       \n"
     ]
    }
   ],
   "source": [
    "#str.center(width[, fillchar])注意这里的方括弧的意思是“可要可不要”\n",
    "str = \"Chinadaily.com.cn is the largest English portal in China\"\n",
    "\n",
    "print (\"str.center(40, '*') : \", str.center(70, '*'))\n",
    "print (\"str.center(40) : \", str.center(70))#不给 '*'就空格替代"
   ]
  },
  {
   "cell_type": "code",
   "execution_count": 8,
   "metadata": {},
   "outputs": [
    {
     "name": "stdout",
     "output_type": "stream",
     "text": [
      "******************this is string example....wow!!!\n"
     ]
    }
   ],
   "source": [
    "str = \"this is string example....wow!!!\"\n",
    "print (str.rjust(50, '*'))#rjust的意思是先开出50个字符空间，从右边起填上字符串，其余的字符填上*"
   ]
  },
  {
   "cell_type": "code",
   "execution_count": 18,
   "metadata": {},
   "outputs": [
    {
     "name": "stdout",
     "output_type": "stream",
     "text": [
      "pythongood\n"
     ]
    }
   ],
   "source": [
    "favorite_language = 'python      '#后面这些空格不想要了\n",
    "\n",
    "print(favorite_language.rstrip()+'good')"
   ]
  },
  {
   "cell_type": "code",
   "execution_count": null,
   "metadata": {},
   "outputs": [],
   "source": [
    "str = \"www.w3cschool.cc\"\n",
    "print (\"菜鸟教程旧地址：\", str)\n",
    "print (\"菜鸟教程新地址：\", str.replace(\"w3cschool.cc\", \"runoob.com\"))"
   ]
  },
  {
   "cell_type": "code",
   "execution_count": 27,
   "metadata": {},
   "outputs": [
    {
     "name": "stdout",
     "output_type": "stream",
     "text": [
      "r-u-n-o-o-b\n",
      "runoob\n",
      "['r', 'u', 'n', 'o', 'o', 'b']\n"
     ]
    }
   ],
   "source": [
    "s1 = \"-\"\n",
    "s2 = \"\"\n",
    "seq = (\"r\", \"u\", \"n\", \"o\", \"o\", \"b\") # 字符串序列\n",
    "print (s1.join( seq ))#s.join(d)的意思是将字符串列合并，用s来分割\n",
    "print (s2.join( seq ))\n",
    "s3=s1.join( seq )\n",
    "print (s3.split('-'))"
   ]
  },
  {
   "cell_type": "code",
   "execution_count": 12,
   "metadata": {},
   "outputs": [],
   "source": [
    "str = \"Chinadaily.com.cn is the largest English portal in China\"\n",
    "#如何分解？\n"
   ]
  },
  {
   "cell_type": "markdown",
   "metadata": {},
   "source": [
    "### 判断\n",
    "|序号\t|方法及描述|\n",
    "|------------|-------|\n",
    "|10|\t[isalnum()如果字符串至少有一个字符并且所有字符都是字母或数字则返 回 True,否则返回 False](https://www.runoob.com/python3/python3-string-isalnum.html)|\n",
    "|11\t|[isalpha()     如果字符串至少有一个字符并且所有字符都是字母则返回 True, 否则返回 False](https://www.runoob.com/python3/python3-string-isalpha.html)|\n",
    "|12\t|[isdigit()    如果字符串只包含数字则返回 True 否则返回 False..](https://www.runoob.com/python3/python3-string-isdigit.html)|\n",
    "|13\t|[islower()     如果字符串中包含至少一个区分大小写的字符，并且所有这些(区分大小写的)字符都是小写，则返回 True，否则返回 False](https://www.runoob.com/python3/python3-string-islower.html)|\n",
    "|14\t|[isnumeric()    如果字符串中只包含数字字符(比isdigit()更加广)，则返回 True，否则返回 False](https://www.runoob.com/python3/python3-string-isnumeric.html)|\n",
    "|15\t|[isspace()    如果字符串中只包含空白，则返回 True，否则返回 False.](https://www.runoob.com/python3/python3-string-isspace.html)|\n",
    "|16\t|[istitle()   如果字符串是标题化的(见 title())则返回 True，否则返回 False](https://www.runoob.com/python3/python3-string-istitle.html)|\n",
    "|17\t|[isupper()如果字符串中包含至少一个区分大小写的字符，并且所有这些(区分大小写的)字符都是大写，则返回 True，否则返回 False](https://www.runoob.com/python3/python3-string-isupper.html)|\n",
    "|33\t|startswith(substr, beg=0,end=len(string))检查字符串是否是以指定子字符串 substr 开头，是则返回 True，否则返回 False。如果beg 和 end 指定值，则在指定范围内检查。|\n",
    "|40\t|isdecimal()检查字符串是否只包含十进制字符，如果是返回 true，否则返回 false。|\n"
   ]
  },
  {
   "cell_type": "code",
   "execution_count": 18,
   "metadata": {},
   "outputs": [
    {
     "name": "stdout",
     "output_type": "stream",
     "text": [
      "True\n"
     ]
    }
   ],
   "source": [
    "str = \"THIS IS STRING EXAMPLE....WOW!!!\"\n",
    "print (str.isupper())"
   ]
  },
  {
   "cell_type": "code",
   "execution_count": 21,
   "metadata": {},
   "outputs": [
    {
     "name": "stdout",
     "output_type": "stream",
     "text": [
      "False\n"
     ]
    }
   ],
   "source": [
    "a='ssdfghjk24汉字'\n",
    "a1='ssdfghjk24汉字@'\n",
    "b=a1.isalnum();\n",
    "print(b)\n"
   ]
  },
  {
   "cell_type": "code",
   "execution_count": 7,
   "metadata": {
    "scrolled": false
   },
   "outputs": [
    {
     "data": {
      "text/html": [
       "\n",
       "        <iframe\n",
       "            width=\"900\"\n",
       "            height=\"500\"\n",
       "            src=\"https://www.runoob.com/python3/python3-built-in-functions.html\"\n",
       "            frameborder=\"0\"\n",
       "            allowfullscreen\n",
       "        ></iframe>\n",
       "        "
      ],
      "text/plain": [
       "<IPython.lib.display.IFrame at 0x23fa8cf78d0>"
      ]
     },
     "execution_count": 7,
     "metadata": {},
     "output_type": "execute_result"
    }
   ],
   "source": [
    "from IPython.display import IFrame\n",
    "IFrame('https://www.runoob.com/python3/python3-built-in-functions.html', width=900, height=500)"
   ]
  },
  {
   "cell_type": "code",
   "execution_count": 48,
   "metadata": {},
   "outputs": [
    {
     "name": "stdout",
     "output_type": "stream",
     "text": [
      "str.capitalize() :  This is string example from runoob....wow!!!\n"
     ]
    }
   ],
   "source": [
    "str = \"this is string example from runoob....wow!!!\"\n",
    "\n",
    "print (\"str.capitalize() : \", str.capitalize())"
   ]
  },
  {
   "cell_type": "markdown",
   "metadata": {
    "cell_style": "center"
   },
   "source": [
    "## Unicode 字符串\n",
    "\n",
    "在Python3中，所有的字符串都是Unicode字符串。  \n",
    "这和计算机本身显示的字符串一致，都是用Unicode编码。\n",
    " <div align=right>  <img width = '450' height ='450' src=\"svgFile_1583480602197_831394.svg\" /></div> \n",
    "    \n",
    "一般来说，如写字板、浏览器等程序会自动识别编码，   \n",
    "用对应的code 规范来解码成unicode用于计算机正确显示，   \n",
    "然而有时候，人为的规定会产生编码错误，将产生乱码。  \n",
    "\n",
    "乱码的问题是python程序员经常遇到的问题，基本原理就如这里讲到的。  \n",
    "再深入的编码规则不需要深究，只要原理清楚了，就能找到解决问题的思路。"
   ]
  },
  {
   "cell_type": "code",
   "execution_count": 3,
   "metadata": {},
   "outputs": [
    {
     "name": "stdout",
     "output_type": "stream",
     "text": [
      "b'\\xe6\\x88\\x91\\xe7\\x88\\xb1\\xe6\\x88\\x91\\xe7\\x9a\\x84\\xe7\\xa5\\x96\\xe5\\x9b\\xbd'\n",
      "b'\\xce\\xd2\\xb0\\xae\\xce\\xd2\\xb5\\xc4\\xd7\\xe6\\xb9\\xfa'\n",
      "鎴戠埍鎴戠殑绁栧浗\n"
     ]
    },
    {
     "ename": "UnicodeDecodeError",
     "evalue": "'utf-8' codec can't decode byte 0xce in position 0: invalid continuation byte",
     "output_type": "error",
     "traceback": [
      "\u001b[1;31m---------------------------------------------------------------------------\u001b[0m",
      "\u001b[1;31mUnicodeDecodeError\u001b[0m                        Traceback (most recent call last)",
      "\u001b[1;32m<ipython-input-3-32e81d42e481>\u001b[0m in \u001b[0;36m<module>\u001b[1;34m\u001b[0m\n\u001b[0;32m      9\u001b[0m \u001b[0mprint\u001b[0m\u001b[1;33m(\u001b[0m\u001b[0merrot\u001b[0m\u001b[1;33m)\u001b[0m\u001b[1;33m\u001b[0m\u001b[1;33m\u001b[0m\u001b[0m\n\u001b[0;32m     10\u001b[0m \u001b[1;33m\u001b[0m\u001b[0m\n\u001b[1;32m---> 11\u001b[1;33m \u001b[0merrot\u001b[0m\u001b[1;33m=\u001b[0m\u001b[0mgt\u001b[0m\u001b[1;33m.\u001b[0m\u001b[0mdecode\u001b[0m\u001b[1;33m(\u001b[0m\u001b[1;34m'utf-8'\u001b[0m\u001b[1;33m)\u001b[0m\u001b[1;31m#反之，gbk编码后用utf-8解码，将会出错\u001b[0m\u001b[1;33m\u001b[0m\u001b[1;33m\u001b[0m\u001b[0m\n\u001b[0m\u001b[0;32m     12\u001b[0m \u001b[0mprint\u001b[0m\u001b[1;33m(\u001b[0m\u001b[0merrot\u001b[0m\u001b[1;33m)\u001b[0m\u001b[1;33m\u001b[0m\u001b[1;33m\u001b[0m\u001b[0m\n",
      "\u001b[1;31mUnicodeDecodeError\u001b[0m: 'utf-8' codec can't decode byte 0xce in position 0: invalid continuation byte"
     ]
    }
   ],
   "source": [
    "st='我爱我的祖国'#st变量保存的是unicode编码\n",
    "mt=st.encode('utf-8')\n",
    "print(mt)#将显示utf-8编码的16进制表示\n",
    "#print(st)#将直接显示正常的汉字“我爱我的祖国”\n",
    "gt=st.encode('gbk')\n",
    "print(gt)#将显示gbk编码的16进制表示\n",
    "errot=mt.decode('gbk')#utf-8编码后用gbk解码到unicode在计算机上显示，只能是乱码\n",
    "print(errot)\n",
    "errot=gt.decode('utf-8')#反之，gbk编码后用utf-8解码，将会出错\n",
    "print(errot)\n"
   ]
  },
  {
   "cell_type": "code",
   "execution_count": null,
   "metadata": {},
   "outputs": [],
   "source": [
    "a=10\n",
    "b=a\n",
    "a=5\n",
    "print(b)\n",
    "x='hello'\n",
    "y=x\n",
    "#x=x[:-2]\n",
    "cx=x.replace('l','k')#x本身并没有变，只是将x字符串变换以后用一个新的引用引用了\n",
    "print(y)\n",
    "print(x)\n",
    "ax=[1,2,3]\n",
    "print(ax)\n",
    "by=ax\n",
    "#by=ax.copy()\n",
    "ax[2]=9\n",
    "ax=ax[1:]#这个ax已经不是原来的 ax了\n",
    "print(by)\n",
    "#ax[]#"
   ]
  },
  {
   "cell_type": "code",
   "execution_count": 53,
   "metadata": {},
   "outputs": [
    {
     "name": "stdout",
     "output_type": "stream",
     "text": [
      "2\n",
      "5\n",
      "-1\n",
      "2\n",
      "2\n",
      "-1\n",
      "['th', 's ', 's str', 'ng example....wow!!!']\n",
      "['th', 's ', 's str', 'ng example....wow!!!']\n",
      "['this is string example....', 'o', '!!!']\n"
     ]
    }
   ],
   "source": [
    "#!/usr/bin/python3\n",
    "\n",
    "str1 = \"this is really a string is example....wow!!!\"\n",
    "str2 = \"is\"\n",
    "\n",
    "print (str1.find(str2))\n",
    "\n",
    "print (str1.rfind(str2, 0, 10))\n",
    "print (str1.rfind(str2, 10, 0))\n",
    "\n",
    "print (str1.find(str2))\n",
    "print (str1.find(str2, 0, 10))\n",
    "print (str1.find(str2, 10, 0))\n",
    "\n",
    "str = \"this is string example....wow!!!\"\n",
    "print (str.split('i' ))       # 以空格为分隔符\n",
    "print (str.split('i',str.count('i')))   # 以 i 为分隔符\n",
    "print (str.split('w'))     # 以 w 为分隔符"
   ]
  },
  {
   "cell_type": "code",
   "execution_count": 84,
   "metadata": {},
   "outputs": [
    {
     "name": "stdout",
     "output_type": "stream",
     "text": [
      "菜鸟教程旧地址： www.w3cschool.cc\n",
      "菜鸟教程新地址： www.runoob.com\n",
      "there is in every human being’s h\n"
     ]
    }
   ],
   "source": [
    "str = \"www.w3cschool.cc\"\n",
    "print (\"菜鸟教程旧地址：\", str)\n",
    "print (\"菜鸟教程新地址：\", str.replace(\"w3cschool.cc\", \"runoob.com\"))\n",
    " \n",
    "str = \"there is in every human being’s heart\"\n",
    "print (str[:-4])       # 以空格为分隔符"
   ]
  }
 ],
 "metadata": {
  "hide_input": false,
  "kernelspec": {
   "display_name": "Python 3",
   "language": "python",
   "name": "python3"
  },
  "language_info": {
   "codemirror_mode": {
    "name": "ipython",
    "version": 3
   },
   "file_extension": ".py",
   "mimetype": "text/x-python",
   "name": "python",
   "nbconvert_exporter": "python",
   "pygments_lexer": "ipython3",
   "version": "3.7.3"
  },
  "toc": {
   "base_numbering": 1,
   "nav_menu": {},
   "number_sections": true,
   "sideBar": true,
   "skip_h1_title": false,
   "title_cell": "Table of Contents",
   "title_sidebar": "Contents",
   "toc_cell": false,
   "toc_position": {
    "height": "calc(100% - 180px)",
    "left": "10px",
    "top": "150px",
    "width": "307.181px"
   },
   "toc_section_display": true,
   "toc_window_display": true
  },
  "varInspector": {
   "cols": {
    "lenName": 16,
    "lenType": 16,
    "lenVar": 40
   },
   "kernels_config": {
    "python": {
     "delete_cmd_postfix": "",
     "delete_cmd_prefix": "del ",
     "library": "var_list.py",
     "varRefreshCmd": "print(var_dic_list())"
    },
    "r": {
     "delete_cmd_postfix": ") ",
     "delete_cmd_prefix": "rm(",
     "library": "var_list.r",
     "varRefreshCmd": "cat(var_dic_list()) "
    }
   },
   "types_to_exclude": [
    "module",
    "function",
    "builtin_function_or_method",
    "instance",
    "_Feature"
   ],
   "window_display": false
  }
 },
 "nbformat": 4,
 "nbformat_minor": 2
}
